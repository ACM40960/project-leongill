{
 "cells": [
  {
   "cell_type": "code",
   "execution_count": 1,
   "id": "898ed43b-910d-4859-9603-70ee227b9bbc",
   "metadata": {},
   "outputs": [],
   "source": [
    "import random as rn\n",
    "import matplotlib.pyplot as plt\n",
    "import numpy as np\n",
    "import pandas as pd\n",
    "import time as ti\n",
    "import itertools as it\n",
    "from IPython.display import display, Latex"
   ]
  },
  {
   "cell_type": "markdown",
   "id": "5538fcaa-f578-42ad-94da-bf6ac5a88f74",
   "metadata": {},
   "source": [
    "Disclaimer: I will ommit comments from code where I feel the context or variable names etc clearly illustrate things."
   ]
  },
  {
   "cell_type": "markdown",
   "id": "71df0f8f-0678-4a92-b4e8-0fcee1603089",
   "metadata": {},
   "source": [
    "# Creating a simulation of blackjack"
   ]
  },
  {
   "cell_type": "markdown",
   "id": "7bb64ffb-e7cf-49d3-bfae-f35becbabcd9",
   "metadata": {},
   "source": [
    "Firstly I initialise the deck which contains 52 cards. I include the suit but that is not essential as blackjack outcomes are invaraint of suit:"
   ]
  },
  {
   "cell_type": "code",
   "execution_count": 2,
   "id": "44a065b2-21f6-48d6-9868-dc0175b46711",
   "metadata": {},
   "outputs": [],
   "source": [
    "full_deck = [\"2\",\"3\",\"4\",\"5\",\"6\",\"7\",\"8\",\"9\",\"10\",\"J\",\"Q\",\"K\",\"A\"]*4"
   ]
  },
  {
   "cell_type": "markdown",
   "id": "74095d4a-4807-47ba-ae4c-fb7500ff6b9b",
   "metadata": {},
   "source": [
    "We now have to calculate the score associated with a given hand. We must assign a dynamic rule to the ace which sets all aces equal to eleven initially. I the hand is bust, the first ace is set to 1. If still bust the first two aces are set to 1 and so on:"
   ]
  },
  {
   "cell_type": "code",
   "execution_count": 3,
   "id": "3d64dc15-953e-4f3e-a8c8-8ba53db55323",
   "metadata": {},
   "outputs": [],
   "source": [
    "def score(current_hand):\n",
    "    score = 0\n",
    "    high_aces = 0\n",
    "    low_aces = 0\n",
    "    for i in current_hand:\n",
    "        if i[0] != \"A\":\n",
    "            if i.isdigit() and int(i) > 1:\n",
    "                 score += int(i)\n",
    "            else:\n",
    "                 score += 10\n",
    "        if i[0] == \"A\": \n",
    "            high_aces += 1\n",
    "        \n",
    "    while high_aces > 0:\n",
    "        if score + 11*high_aces + low_aces < 22:\n",
    "            score += 11*high_aces \n",
    "            high_aces = 0\n",
    "        if score + 11*high_aces + low_aces > 21:\n",
    "            high_aces -= 1\n",
    "            low_aces += 1\n",
    "\n",
    "    return score + low_aces"
   ]
  },
  {
   "cell_type": "markdown",
   "id": "be7c4dce-ac04-4383-81c1-8d77e90d2db3",
   "metadata": {},
   "source": [
    "## Object Oriented Programming\n",
    "For the model I will employ 3 objects. These are classes which have class specific methods. The objects are the deck, the player and the game and they all are required so apply several actions via their methods:\n",
    "\n",
    "### The Deck\n",
    "The deck must:\n",
    "- Show deck in its current state\n",
    "- Draw from the deck in its current state\n",
    "- Remove specified cards from the deck"
   ]
  },
  {
   "cell_type": "code",
   "execution_count": 4,
   "id": "4d5b2b4c-0ebf-4ebe-9cdf-bb391df8dd2b",
   "metadata": {},
   "outputs": [],
   "source": [
    "class deck:\n",
    "    def __init__(self, num_decks = 1):\n",
    "        self.deck = list(np.random.permutation(full_deck*num_decks))\n",
    "    def show_deck(self):\n",
    "        return(self.deck)\n",
    "        \n",
    "    def draw(self):\n",
    "        if len(self.deck) > 0:\n",
    "            x = self.show_deck().pop()\n",
    "            return(x)\n",
    "            self.deck.remove(x)   \n",
    "\n",
    "        else:\n",
    "            return(None)\n",
    "        \n",
    "    def remove(self,to_be_removed):\n",
    "        for i in to_be_removed:\n",
    "            if i in self.show_deck():# To avoid errors\n",
    "                self.deck.remove(i)\n"
   ]
  },
  {
   "cell_type": "markdown",
   "id": "8b863b9e-ba12-4db6-b914-280627bc777d",
   "metadata": {},
   "source": [
    "### The Player\n",
    "The player must:\n",
    "- Show hand\n",
    "- Draw new card given a deck\n",
    "- Insert a specified card to their hand (Essential for the dealer's hidden card and for simulating specific hands)"
   ]
  },
  {
   "cell_type": "code",
   "execution_count": 5,
   "id": "f668d797-851b-4f69-8d00-c45a4fb1da4e",
   "metadata": {},
   "outputs": [],
   "source": [
    "class player:\n",
    "    def __init__(self):\n",
    "        self.current_hand = []\n",
    "        \n",
    "    def show_hand(self):\n",
    "        return(self.current_hand)\n",
    "    \n",
    "    def draw(self,current_deck):\n",
    "        self.current_hand = list(self.current_hand) + [current_deck.draw()]#needs work\n",
    "            \n",
    "    def take_card(self,hidden_card):\n",
    "        self.current_hand = np.append(self.current_hand,hidden_card)\n",
    "        \n",
    "    def score(self):\n",
    "        return score(self.current_hand)"
   ]
  },
  {
   "cell_type": "markdown",
   "id": "f0a0dc0f-9c9e-4f42-9cec-16519c0f9d05",
   "metadata": {},
   "source": [
    "### The Game\n",
    "The game must:\n",
    "- Initialize dealer, player, game, deck given a number of decks\n",
    "- Perform the initial deal giving the player two visible cards and giving the dealer one visible card and one hidden card\n",
    "- Be capable of fixing the hands of both dealer and player for my analysis\n",
    "- At any point show the hands of both parties, the hidden card or the deck"
   ]
  },
  {
   "cell_type": "code",
   "execution_count": 6,
   "id": "c1904b77-303a-422f-a1a5-33fe02bd9d02",
   "metadata": {},
   "outputs": [],
   "source": [
    "class game:\n",
    "    def __init__(self,num_decks = 1, player_initial_hand = [], dealer_initial_hand = []):\n",
    "\n",
    "        #Add initial hand method that draws etc\n",
    "\n",
    "        self.player = player()\n",
    "        self.dealer = player()\n",
    "        self.deck = deck(num_decks)\n",
    "        self.hidden_card = player()\n",
    "        \n",
    "        for i in list(player_initial_hand) + list(dealer_initial_hand):\n",
    "            self.deck.remove(i)\n",
    "            \n",
    "        for j in player_initial_hand:\n",
    "            self.player.take_card(j)\n",
    "            \n",
    "        while len(self.player.show_hand()) < 2:\n",
    "            self.player.draw(self.deck)\n",
    "        \n",
    "            \n",
    "        for j in dealer_initial_hand:\n",
    "            self.dealer.take_card(j)\n",
    "            \n",
    "        if len(self.dealer.show_hand()) < 1:\n",
    "            self.dealer.draw(self.deck)\n",
    "\n",
    "        \n",
    "        self.hidden_card.draw(self.deck)\n",
    "        self.dealer.take_card(self.hidden_card.show_hand())#We just add it now but later I will account for the fact that this information is not visible\n",
    "        \n",
    "# Define functions to show the hands, hidden card and current deck\n",
    "    def show_player(self):\n",
    "        return(self.player.show_hand())\n",
    "\n",
    "    def show_dealer(self):\n",
    "        return(self.dealer.show_hand())\n",
    "    \n",
    "    def show_hidden(self):\n",
    "        return(self.hidden_card)\n",
    "    \n",
    "    def show_deck(self):\n",
    "        return(self.deck.show_deck())"
   ]
  },
  {
   "cell_type": "markdown",
   "id": "751e4e26-b135-46f1-afd0-875870ba3ffc",
   "metadata": {},
   "source": [
    "## Startegy\n",
    "I will employ several strategies for playing the games, each one using different levels of complexity and thereofre implied player skill. The first strategy will be for a layman with no knowledge or interest in the game. For this person, I will determine the best value for them to stick at to maximize their win rate. \n",
    "### Layman Startegy"
   ]
  },
  {
   "cell_type": "markdown",
   "id": "c46722a9-b30d-4100-913e-a0c297ec78ad",
   "metadata": {},
   "source": [
    "I run the game drawing two cards for the player and dealer. For each possible stick value $i \\in [10,21]$ I will simulate $10^6$ games and where the player sticks if their hand has a score $\\geq i$. I will then present the win, loss, tie proportions for each stick threshold. Firstly I define a function which determines the winner or if a tie has taken place:"
   ]
  },
  {
   "cell_type": "code",
   "execution_count": 7,
   "id": "4e4251b7-a272-42a4-95d1-01cff806764c",
   "metadata": {},
   "outputs": [],
   "source": [
    "def decision(player,dealer):\n",
    "    if player.score() < 22:#Not bust\n",
    "        if player.score() > dealer.score():#Player Wins\n",
    "            return([1,0,0], player.show_hand())\n",
    "\n",
    "        if player.score() < dealer.score() and dealer.score() < 22:#Dealer Wins\n",
    "            return([0,1,0], dealer.show_hand())\n",
    "\n",
    "        if dealer.score() > 21:#Dealer bust\n",
    "            return([1,0,0], [])\n",
    "\n",
    "        if player.score() == dealer.score():#Tie\n",
    "            return([0,0,1], [])\n",
    "    if player.score() > 21: #Player bust\n",
    "        return(np.array([0,1,0]), dealer.show_hand())"
   ]
  },
  {
   "cell_type": "markdown",
   "id": "f3a2b4a0-8c58-436f-acab-d13f139e2488",
   "metadata": {},
   "source": [
    "I now run the simulations with the player sticking if they score on or above $i$:"
   ]
  },
  {
   "cell_type": "code",
   "execution_count": 8,
   "id": "10cb7ee3-7786-4ceb-a2de-1e0cfb3b1edc",
   "metadata": {},
   "outputs": [
    {
     "data": {
      "text/plain": [
       "1144.6312663555145"
      ]
     },
     "execution_count": 8,
     "metadata": {},
     "output_type": "execute_result"
    }
   ],
   "source": [
    "totals = {}\n",
    "    \n",
    "total_iterations = 10**6\n",
    "\n",
    "start = ti.time()\n",
    "for i in range(10,22):\n",
    "    iterations = total_iterations\n",
    "    current_score = np.array([0,0,0])\n",
    "    while iterations > 0:\n",
    "        test = game()\n",
    " \n",
    "        while test.player.score() < i:\n",
    "            test.player.draw(test.deck)\n",
    "\n",
    "        while test.dealer.score() < 17:\n",
    "            test.dealer.draw(test.deck)\n",
    "#--------------------------------------------------------------------------------\n",
    "        temp, hand = decision(test.player, test.dealer)#[1,0,0] for player win, [0,1,0] for dealer win, [0,0,1] for tie\n",
    "        current_score += temp\n",
    "#------------------------------------------------------------------------------------\n",
    "        iterations -= 1\n",
    "    totals[str(i)] = current_score\n",
    "ti.time() - start"
   ]
  },
  {
   "cell_type": "code",
   "execution_count": 10,
   "id": "3a7f4eb0-4a94-40b4-8f9a-c7b851068938",
   "metadata": {},
   "outputs": [
    {
     "data": {
      "text/html": [
       "<div>\n",
       "<style scoped>\n",
       "    .dataframe tbody tr th:only-of-type {\n",
       "        vertical-align: middle;\n",
       "    }\n",
       "\n",
       "    .dataframe tbody tr th {\n",
       "        vertical-align: top;\n",
       "    }\n",
       "\n",
       "    .dataframe thead th {\n",
       "        text-align: right;\n",
       "    }\n",
       "</style>\n",
       "<table border=\"1\" class=\"dataframe\">\n",
       "  <thead>\n",
       "    <tr style=\"text-align: right;\">\n",
       "      <th></th>\n",
       "      <th>Player Wins</th>\n",
       "      <th>Dealer Wins</th>\n",
       "      <th>Ties</th>\n",
       "    </tr>\n",
       "  </thead>\n",
       "  <tbody>\n",
       "    <tr>\n",
       "      <th>10</th>\n",
       "      <td>391669</td>\n",
       "      <td>551795</td>\n",
       "      <td>56536</td>\n",
       "    </tr>\n",
       "    <tr>\n",
       "      <th>11</th>\n",
       "      <td>401159</td>\n",
       "      <td>537882</td>\n",
       "      <td>60959</td>\n",
       "    </tr>\n",
       "    <tr>\n",
       "      <th>12</th>\n",
       "      <td>415467</td>\n",
       "      <td>518675</td>\n",
       "      <td>65858</td>\n",
       "    </tr>\n",
       "    <tr>\n",
       "      <th>13</th>\n",
       "      <td>418972</td>\n",
       "      <td>508480</td>\n",
       "      <td>72548</td>\n",
       "    </tr>\n",
       "    <tr>\n",
       "      <th>14</th>\n",
       "      <td>421468</td>\n",
       "      <td>499074</td>\n",
       "      <td>79458</td>\n",
       "    </tr>\n",
       "    <tr>\n",
       "      <th>15</th>\n",
       "      <td>419585</td>\n",
       "      <td>493822</td>\n",
       "      <td>86593</td>\n",
       "    </tr>\n",
       "    <tr>\n",
       "      <th>16</th>\n",
       "      <td>415112</td>\n",
       "      <td>490878</td>\n",
       "      <td>94010</td>\n",
       "    </tr>\n",
       "    <tr>\n",
       "      <th>17</th>\n",
       "      <td>408550</td>\n",
       "      <td>489296</td>\n",
       "      <td>102154</td>\n",
       "    </tr>\n",
       "    <tr>\n",
       "      <th>18</th>\n",
       "      <td>398456</td>\n",
       "      <td>513282</td>\n",
       "      <td>88262</td>\n",
       "    </tr>\n",
       "    <tr>\n",
       "      <th>19</th>\n",
       "      <td>361546</td>\n",
       "      <td>564782</td>\n",
       "      <td>73672</td>\n",
       "    </tr>\n",
       "    <tr>\n",
       "      <th>20</th>\n",
       "      <td>292854</td>\n",
       "      <td>650877</td>\n",
       "      <td>56269</td>\n",
       "    </tr>\n",
       "    <tr>\n",
       "      <th>21</th>\n",
       "      <td>158481</td>\n",
       "      <td>820092</td>\n",
       "      <td>21427</td>\n",
       "    </tr>\n",
       "  </tbody>\n",
       "</table>\n",
       "</div>"
      ],
      "text/plain": [
       "    Player Wins  Dealer Wins    Ties\n",
       "10       391669       551795   56536\n",
       "11       401159       537882   60959\n",
       "12       415467       518675   65858\n",
       "13       418972       508480   72548\n",
       "14       421468       499074   79458\n",
       "15       419585       493822   86593\n",
       "16       415112       490878   94010\n",
       "17       408550       489296  102154\n",
       "18       398456       513282   88262\n",
       "19       361546       564782   73672\n",
       "20       292854       650877   56269\n",
       "21       158481       820092   21427"
      ]
     },
     "execution_count": 10,
     "metadata": {},
     "output_type": "execute_result"
    }
   ],
   "source": [
    "totals#110"
   ]
  },
  {
   "cell_type": "code",
   "execution_count": 11,
   "id": "bc276597-f010-4ff9-9210-f21a244df211",
   "metadata": {},
   "outputs": [
    {
     "ename": "TypeError",
     "evalue": "'numpy.ndarray' object is not callable",
     "output_type": "error",
     "traceback": [
      "\u001b[1;31m---------------------------------------------------------------------------\u001b[0m",
      "\u001b[1;31mTypeError\u001b[0m                                 Traceback (most recent call last)",
      "\u001b[1;32m<ipython-input-11-d39d3527bf86>\u001b[0m in \u001b[0;36m<module>\u001b[1;34m\u001b[0m\n\u001b[1;32m----> 1\u001b[1;33m \u001b[1;33m[\u001b[0m\u001b[0mi\u001b[0m\u001b[1;33m[\u001b[0m\u001b[1;36m0\u001b[0m\u001b[1;33m]\u001b[0m\u001b[1;33m/\u001b[0m\u001b[1;36m10\u001b[0m\u001b[1;33m**\u001b[0m\u001b[1;36m6\u001b[0m \u001b[1;32mfor\u001b[0m \u001b[0mi\u001b[0m \u001b[1;32min\u001b[0m \u001b[0mtotals\u001b[0m\u001b[1;33m.\u001b[0m\u001b[0mvalues\u001b[0m\u001b[1;33m(\u001b[0m\u001b[1;33m)\u001b[0m\u001b[1;33m]\u001b[0m\u001b[1;33m\u001b[0m\u001b[1;33m\u001b[0m\u001b[0m\n\u001b[0m",
      "\u001b[1;31mTypeError\u001b[0m: 'numpy.ndarray' object is not callable"
     ]
    }
   ],
   "source": [
    "[i[0]/10**6 for i in totals.values()]"
   ]
  },
  {
   "cell_type": "code",
   "execution_count": 9,
   "id": "f8040399-ea50-48ad-a036-6586e4d5b5ba",
   "metadata": {},
   "outputs": [],
   "source": [
    "totals = pd.read_csv(\"Integer_Stick_Data.csv\",index_col = 0) #No need to rerun"
   ]
  },
  {
   "cell_type": "code",
   "execution_count": 12,
   "id": "024acd1f-d878-4be6-b078-baa0db764b2b",
   "metadata": {},
   "outputs": [],
   "source": [
    "# function to add value labels\n",
    "def addlabels(x,y):\n",
    "    for i in range(len(x)):\n",
    "        plt.text(x[i], round(y[i],4), round(y[i],4), ha = 'center',\n",
    "                 bbox = dict(facecolor = 'red', alpha =.8))"
   ]
  },
  {
   "cell_type": "code",
   "execution_count": 83,
   "id": "ac3512b0-ef64-4106-930b-c63ca45cdf4b",
   "metadata": {},
   "outputs": [],
   "source": [
    "def custom_hist(labels, data, xlabel = None, ylabel = None, title = None, boxes = False, proportions = (12,5)):\n",
    "    if proportions != []:\n",
    "        fig = plt.figure(figsize=proportions)\n",
    "    plt.bar(labels, data, color = \"red\")\n",
    "    plt.grid()\n",
    "    if boxes == True:\n",
    "        for i in range(len(labels)):\n",
    "            plt.text(labels[i], round(data[i],4), round(data[i],4), ha = 'center', va = \"bottom\",bbox = dict(facecolor = 'red', alpha =.8))"
   ]
  },
  {
   "cell_type": "markdown",
   "id": "51bdf22f-dc20-42fa-86c9-37b01a46c731",
   "metadata": {},
   "source": [
    "The below histogram shows how often the player wins with a given startegy and the black line shows the dealer bust rate which is the baseline for any strategy as this level can be exceeded by simply sticking on the draw:"
   ]
  },
  {
   "cell_type": "code",
   "execution_count": 86,
   "id": "6c67c1dc-e026-467d-abd0-3f7a64bdc806",
   "metadata": {},
   "outputs": [
    {
     "data": {
      "image/png": "[encoded data removed]",
      "text/plain": [
       "<Figure size 1224x360 with 1 Axes>"
      ]
     },
     "metadata": {
      "needs_background": "light"
     },
     "output_type": "display_data"
    }
   ],
   "source": [
    "custom_hist(totals.index, list(totals[\"Player Wins\"]/10**6), boxes = True, proportions = (17,5))\n",
    "plt.axhline(y=.285, color='black', linestyle='--', label = \"Dealer Bust Rate\")\n",
    "plt.title(\"Win Probability for Sticking Strategy\")\n",
    "plt.xlabel(\"Stick on or Above\")\n",
    "plt.ylabel(\"Success Proportion\")\n",
    "plt.ylim(0,0.45)\n",
    "plt.legend()\n",
    "plt.savefig(\"Simple_Strategy.png\", dpi = 300, bbox_inches='tight')"
   ]
  },
  {
   "cell_type": "markdown",
   "id": "a94e46fc-7e0f-43a8-9992-ffaa1c43e6ff",
   "metadata": {},
   "source": [
    "We identify holding at 14 or above as the optimal holding value. I will simulate $10^7$ games with this stategy to determine some properties of the game. These will include:\n",
    "- Number of cards in winners hand\n",
    "- Types of cards in winners hand\n",
    "- Win, draw, tie rate\n",
    "This will illustrate how different cards are more likely to result ina  win if present in a hand."
   ]
  },
  {
   "cell_type": "code",
   "execution_count": 104,
   "id": "06c9753b-2e6f-42e5-813d-f68434aac50d",
   "metadata": {},
   "outputs": [
    {
     "name": "stdout",
     "output_type": "stream",
     "text": [
      "[4207856, 4998464, 793680]\n"
     ]
    },
    {
     "data": {
      "text/plain": [
       "938.4305768013"
      ]
     },
     "execution_count": 104,
     "metadata": {},
     "output_type": "execute_result"
    }
   ],
   "source": [
    "#------------------------------------------------------------------------------------\n",
    "cards_in_hand = dict([(key, 0) for key in full_deck[0:13] + [\"non_bust_wins\"]])\n",
    "\n",
    "num_cards = dict([key,0] for key in range(2,20))\n",
    "#------------------------------------------------------------------------------------\n",
    "    \n",
    "iterations, current_score = 10**7, np.array([0,0,0])\n",
    "\n",
    "start = ti.time()\n",
    "\n",
    "while iterations > 0:\n",
    "    test = game()\n",
    "\n",
    "    while test.player.score() < 14:\n",
    "        test.player.draw(test.deck)\n",
    "\n",
    "    while test.dealer.score() < 17:\n",
    "        test.dealer.draw(test.deck)\n",
    "\n",
    "    temp, hand = decision(test.player, test.dealer)#[1,0,0] for player win, [0,1,0] for dealer win, [0,0,1] for tie\n",
    "    \n",
    "    current_score += temp\n",
    "    for card in hand:\n",
    "        cards_in_hand[card] += 1\n",
    "        num_cards[len(hand)] += 1        \n",
    "    if len(hand) != 0:\n",
    "        cards_in_hand[\"non_bust_wins\"] += 1\n",
    "\n",
    "#------------------------------------------------------------------------------------ \n",
    "    iterations -= 1\n",
    "print(list(current_score))\n",
    "ti.time() - start"
   ]
  },
  {
   "cell_type": "code",
   "execution_count": 16,
   "id": "3bb8419f-d1a5-4013-9d48-c1213c5c5867",
   "metadata": {},
   "outputs": [],
   "source": [
    "current_score = [4207856, 4998464, 793680]#Save us calcualating again"
   ]
  },
  {
   "cell_type": "code",
   "execution_count": 17,
   "id": "dc4b4848-8e04-42ca-89a9-1a1e557eab3a",
   "metadata": {},
   "outputs": [],
   "source": [
    "#pd.DataFrame({ \"Num Cards in Winning Hand\":[i for i in num_cards.values() if i != 0]}, index = range(2,len([i for i in num_cards.values() if i != 0])+2)).to_csv(\"Num_Cards_Winning_Hand.csv\") \n",
    "#pd.DataFrame({\"Cards In Winning Hand\":cards_in_hand.values()}, index = cards_in_hand.keys()).to_csv(\"Cards_Winning_Hand.csv\")\n",
    "wins = sum(current_score[0:2])"
   ]
  },
  {
   "cell_type": "code",
   "execution_count": 18,
   "id": "ab49fb9f-2f6c-4853-900c-cd7f87ba96fe",
   "metadata": {},
   "outputs": [
    {
     "name": "stdout",
     "output_type": "stream",
     "text": [
      "Looking up to three draws gets: 0.996626 of all winning hands\n",
      "Looking up to five draws gets: 0.999993 of all winning hands\n",
      "Average cards per winning hand: 2.639\n"
     ]
    }
   ],
   "source": [
    "temp = pd.read_csv(\"Num_Cards_Winning_Hand.csv\",index_col = 0)[\"Num Cards in Winning Hand\"]\n",
    "print(\"Looking up to three draws gets:\", str(round(sum(temp[:4]/sum(temp)),6)), \"of all winning hands\")#Crucially not all hands but effectivley the same I think....\n",
    "print(\"Looking up to five draws gets:\", str(round(sum(temp[:6]/sum(temp)),6)), \"of all winning hands\")#Crucially not all hands but effectivley the same I think....\n",
    "sum(temp[:6]/sum(temp))#Five draws gets 99998 per 100000\n",
    "temp = pd.read_csv(\"Cards_Winning_Hand.csv\", index_col = 0)\n",
    "print(\"Average cards per winning hand:\",str(round(float(sum(list(temp[\"Cards In Winning Hand\"][:-1]))/temp.iloc[[13]][\"Cards In Winning Hand\"]),4)))         "
   ]
  },
  {
   "cell_type": "code",
   "execution_count": 19,
   "id": "da097630-aeda-4a75-a3ed-fdc0c006659a",
   "metadata": {},
   "outputs": [
    {
     "data": {
      "image/png": "[encoded data removed]",
      "text/plain": [
       "<Figure size 864x360 with 1 Axes>"
      ]
     },
     "metadata": {
      "needs_background": "light"
     },
     "output_type": "display_data"
    },
    {
     "data": {
      "text/plain": [
       "<matplotlib.legend.Legend at 0x286300d3fa0>"
      ]
     },
     "execution_count": 19,
     "metadata": {},
     "output_type": "execute_result"
    },
    {
     "data": {
      "image/png": "[encoded data removed]",
      "text/plain": [
       "<Figure size 864x360 with 1 Axes>"
      ]
     },
     "metadata": {
      "needs_background": "light"
     },
     "output_type": "display_data"
    }
   ],
   "source": [
    "temp = pd.read_csv(\"Num_Cards_Winning_Hand.csv\", index_col = 0)\n",
    "custom_hist(temp.index, list(temp[\"Num Cards in Winning Hand\"]/sum(temp[\"Num Cards in Winning Hand\"])), boxes = True)\n",
    "plt.ylim(0,.5)\n",
    "plt.title(\"Number of Cards in Winning Hands\")\n",
    "plt.xlabel(\"Proportion of each card in average winning hand\")\n",
    "plt.ylabel(\"Proportion\")\n",
    "plt.show()\n",
    "\n",
    "temp = pd.read_csv(\"Cards_Winning_Hand.csv\", index_col = 0)\n",
    "custom_hist(temp.index[:-1],temp[\"Cards In Winning Hand\"][:-1]/float(temp.iloc[[13]][\"Cards In Winning Hand\"]), boxes = True)\n",
    "plt.axhline(y=1/13*2.639, color='black', linestyle='--',  label = \"Expected Proportion For Equal Probabilities\")\n",
    "plt.title(\"Cards in Winning Hands\")\n",
    "plt.xlabel(\"Cards in hand of winner\")\n",
    "plt.ylabel(\"Proportion\")\n",
    "plt.ylim(0,.3)\n",
    "plt.legend(loc='upper left')"
   ]
  },
  {
   "cell_type": "markdown",
   "id": "e7329a2d-3039-4554-b613-3b8f41f40ff4",
   "metadata": {},
   "source": [
    "### I will now answer the question \"How often does the dealer go bust?\":"
   ]
  },
  {
   "cell_type": "code",
   "execution_count": 20,
   "id": "bc62a957-b9a6-405b-ab64-9f1663d9e2e6",
   "metadata": {},
   "outputs": [
    {
     "data": {
      "text/plain": [
       "83.23600101470947"
      ]
     },
     "execution_count": 20,
     "metadata": {},
     "output_type": "execute_result"
    }
   ],
   "source": [
    "total_iterations = 10**6\n",
    "scores = dict([str(key),0] for key in range(2,30))\n",
    "iterations = total_iterations\n",
    "bust = 0\n",
    "start = ti.time()\n",
    "for i in range(10,22):\n",
    "    while iterations > 0:\n",
    "        test = game()\n",
    "\n",
    "        while test.dealer.score() < 17:\n",
    "            test.dealer.draw(test.deck)\n",
    "            \n",
    "        if  test.dealer.score() > 21:\n",
    "            bust += 1\n",
    "        scores[str(test.dealer.score())] += 1\n",
    "\n",
    "        iterations -= 1\n",
    "ti.time() - start"
   ]
  },
  {
   "cell_type": "code",
   "execution_count": 80,
   "id": "c2e2a2dc-0f8a-4608-a560-9ba1bd6fa901",
   "metadata": {},
   "outputs": [
    {
     "ename": "TypeError",
     "evalue": "unsupported operand type(s) for +: 'int' and 'dict'",
     "output_type": "error",
     "traceback": [
      "\u001b[1;31m---------------------------------------------------------------------------\u001b[0m",
      "\u001b[1;31mTypeError\u001b[0m                                 Traceback (most recent call last)",
      "\u001b[1;32m<ipython-input-80-ca0e87fbf932>\u001b[0m in \u001b[0;36m<module>\u001b[1;34m\u001b[0m\n\u001b[1;32m----> 1\u001b[1;33m \u001b[0mcustom_hist\u001b[0m\u001b[1;33m(\u001b[0m\u001b[0mrange\u001b[0m\u001b[1;33m(\u001b[0m\u001b[1;36m17\u001b[0m\u001b[1;33m,\u001b[0m\u001b[1;36m27\u001b[0m\u001b[1;33m)\u001b[0m\u001b[1;33m,\u001b[0m\u001b[1;33m[\u001b[0m\u001b[0mi\u001b[0m\u001b[1;33m/\u001b[0m\u001b[0msum\u001b[0m\u001b[1;33m(\u001b[0m\u001b[1;33m[\u001b[0m\u001b[0mi\u001b[0m \u001b[1;32mfor\u001b[0m \u001b[0mi\u001b[0m \u001b[1;32min\u001b[0m \u001b[0mscores\u001b[0m\u001b[1;33m.\u001b[0m\u001b[0mvalues\u001b[0m\u001b[1;33m(\u001b[0m\u001b[1;33m)\u001b[0m \u001b[1;32mif\u001b[0m \u001b[0mi\u001b[0m \u001b[1;33m!=\u001b[0m \u001b[1;36m0\u001b[0m\u001b[1;33m]\u001b[0m\u001b[1;33m)\u001b[0m \u001b[1;32mfor\u001b[0m \u001b[0mi\u001b[0m \u001b[1;32min\u001b[0m \u001b[0mscores\u001b[0m\u001b[1;33m.\u001b[0m\u001b[0mvalues\u001b[0m\u001b[1;33m(\u001b[0m\u001b[1;33m)\u001b[0m \u001b[1;32mif\u001b[0m \u001b[0mi\u001b[0m \u001b[1;33m!=\u001b[0m \u001b[1;36m0\u001b[0m\u001b[1;33m]\u001b[0m\u001b[1;33m,\u001b[0m \u001b[0mboxes\u001b[0m \u001b[1;33m=\u001b[0m \u001b[1;32mTrue\u001b[0m\u001b[1;33m,\u001b[0m \u001b[0mproportions\u001b[0m \u001b[1;33m=\u001b[0m \u001b[1;33m(\u001b[0m\u001b[1;36m17\u001b[0m\u001b[1;33m,\u001b[0m\u001b[1;36m5\u001b[0m\u001b[1;33m)\u001b[0m\u001b[1;33m)\u001b[0m\u001b[1;33m\u001b[0m\u001b[1;33m\u001b[0m\u001b[0m\n\u001b[0m\u001b[0;32m      2\u001b[0m \u001b[0mplt\u001b[0m\u001b[1;33m.\u001b[0m\u001b[0maxvline\u001b[0m\u001b[1;33m(\u001b[0m\u001b[0mx\u001b[0m\u001b[1;33m=\u001b[0m\u001b[1;36m21.5\u001b[0m\u001b[1;33m,\u001b[0m \u001b[0mcolor\u001b[0m\u001b[1;33m=\u001b[0m\u001b[1;34m'black'\u001b[0m\u001b[1;33m,\u001b[0m \u001b[0mlinestyle\u001b[0m\u001b[1;33m=\u001b[0m\u001b[1;34m'--'\u001b[0m\u001b[1;33m,\u001b[0m  \u001b[0mlabel\u001b[0m \u001b[1;33m=\u001b[0m \u001b[1;34m\"Expected Proportion For Equal Probabilities\"\u001b[0m\u001b[1;33m)\u001b[0m\u001b[1;33m\u001b[0m\u001b[1;33m\u001b[0m\u001b[0m\n\u001b[0;32m      3\u001b[0m \u001b[0mplt\u001b[0m\u001b[1;33m.\u001b[0m\u001b[0mlegend\u001b[0m\u001b[1;33m(\u001b[0m\u001b[1;33m[\u001b[0m\u001b[1;34m\"Proportion Bust: \"\u001b[0m \u001b[1;33m+\u001b[0m \u001b[0mstr\u001b[0m\u001b[1;33m(\u001b[0m\u001b[0mround\u001b[0m\u001b[1;33m(\u001b[0m\u001b[0mbust\u001b[0m\u001b[1;33m/\u001b[0m\u001b[0mtotal_iterations\u001b[0m\u001b[1;33m,\u001b[0m\u001b[1;36m4\u001b[0m\u001b[1;33m)\u001b[0m\u001b[1;33m)\u001b[0m\u001b[1;33m]\u001b[0m\u001b[1;33m,\u001b[0m \u001b[0mloc\u001b[0m\u001b[1;33m=\u001b[0m\u001b[1;34m'upper right'\u001b[0m\u001b[1;33m,\u001b[0m\u001b[0mprop\u001b[0m\u001b[1;33m=\u001b[0m\u001b[1;33m{\u001b[0m\u001b[1;34m'size'\u001b[0m\u001b[1;33m:\u001b[0m \u001b[1;36m20\u001b[0m\u001b[1;33m}\u001b[0m\u001b[1;33m)\u001b[0m\u001b[1;33m\u001b[0m\u001b[1;33m\u001b[0m\u001b[0m\n\u001b[0;32m      4\u001b[0m \u001b[0mplt\u001b[0m\u001b[1;33m.\u001b[0m\u001b[0mylim\u001b[0m\u001b[1;33m(\u001b[0m\u001b[1;36m0\u001b[0m\u001b[1;33m,\u001b[0m\u001b[1;36m0.19\u001b[0m\u001b[1;33m)\u001b[0m\u001b[1;33m\u001b[0m\u001b[1;33m\u001b[0m\u001b[0m\n\u001b[0;32m      5\u001b[0m \u001b[0mplt\u001b[0m\u001b[1;33m.\u001b[0m\u001b[0mtitle\u001b[0m\u001b[1;33m(\u001b[0m\u001b[1;34m\"Dealer Score Distribution When Sticking on 17 +\"\u001b[0m\u001b[1;33m)\u001b[0m\u001b[1;33m\u001b[0m\u001b[1;33m\u001b[0m\u001b[0m\n",
      "\u001b[1;32m<ipython-input-80-ca0e87fbf932>\u001b[0m in \u001b[0;36m<listcomp>\u001b[1;34m(.0)\u001b[0m\n\u001b[1;32m----> 1\u001b[1;33m \u001b[0mcustom_hist\u001b[0m\u001b[1;33m(\u001b[0m\u001b[0mrange\u001b[0m\u001b[1;33m(\u001b[0m\u001b[1;36m17\u001b[0m\u001b[1;33m,\u001b[0m\u001b[1;36m27\u001b[0m\u001b[1;33m)\u001b[0m\u001b[1;33m,\u001b[0m\u001b[1;33m[\u001b[0m\u001b[0mi\u001b[0m\u001b[1;33m/\u001b[0m\u001b[0msum\u001b[0m\u001b[1;33m(\u001b[0m\u001b[1;33m[\u001b[0m\u001b[0mi\u001b[0m \u001b[1;32mfor\u001b[0m \u001b[0mi\u001b[0m \u001b[1;32min\u001b[0m \u001b[0mscores\u001b[0m\u001b[1;33m.\u001b[0m\u001b[0mvalues\u001b[0m\u001b[1;33m(\u001b[0m\u001b[1;33m)\u001b[0m \u001b[1;32mif\u001b[0m \u001b[0mi\u001b[0m \u001b[1;33m!=\u001b[0m \u001b[1;36m0\u001b[0m\u001b[1;33m]\u001b[0m\u001b[1;33m)\u001b[0m \u001b[1;32mfor\u001b[0m \u001b[0mi\u001b[0m \u001b[1;32min\u001b[0m \u001b[0mscores\u001b[0m\u001b[1;33m.\u001b[0m\u001b[0mvalues\u001b[0m\u001b[1;33m(\u001b[0m\u001b[1;33m)\u001b[0m \u001b[1;32mif\u001b[0m \u001b[0mi\u001b[0m \u001b[1;33m!=\u001b[0m \u001b[1;36m0\u001b[0m\u001b[1;33m]\u001b[0m\u001b[1;33m,\u001b[0m \u001b[0mboxes\u001b[0m \u001b[1;33m=\u001b[0m \u001b[1;32mTrue\u001b[0m\u001b[1;33m,\u001b[0m \u001b[0mproportions\u001b[0m \u001b[1;33m=\u001b[0m \u001b[1;33m(\u001b[0m\u001b[1;36m17\u001b[0m\u001b[1;33m,\u001b[0m\u001b[1;36m5\u001b[0m\u001b[1;33m)\u001b[0m\u001b[1;33m)\u001b[0m\u001b[1;33m\u001b[0m\u001b[1;33m\u001b[0m\u001b[0m\n\u001b[0m\u001b[0;32m      2\u001b[0m \u001b[0mplt\u001b[0m\u001b[1;33m.\u001b[0m\u001b[0maxvline\u001b[0m\u001b[1;33m(\u001b[0m\u001b[0mx\u001b[0m\u001b[1;33m=\u001b[0m\u001b[1;36m21.5\u001b[0m\u001b[1;33m,\u001b[0m \u001b[0mcolor\u001b[0m\u001b[1;33m=\u001b[0m\u001b[1;34m'black'\u001b[0m\u001b[1;33m,\u001b[0m \u001b[0mlinestyle\u001b[0m\u001b[1;33m=\u001b[0m\u001b[1;34m'--'\u001b[0m\u001b[1;33m,\u001b[0m  \u001b[0mlabel\u001b[0m \u001b[1;33m=\u001b[0m \u001b[1;34m\"Expected Proportion For Equal Probabilities\"\u001b[0m\u001b[1;33m)\u001b[0m\u001b[1;33m\u001b[0m\u001b[1;33m\u001b[0m\u001b[0m\n\u001b[0;32m      3\u001b[0m \u001b[0mplt\u001b[0m\u001b[1;33m.\u001b[0m\u001b[0mlegend\u001b[0m\u001b[1;33m(\u001b[0m\u001b[1;33m[\u001b[0m\u001b[1;34m\"Proportion Bust: \"\u001b[0m \u001b[1;33m+\u001b[0m \u001b[0mstr\u001b[0m\u001b[1;33m(\u001b[0m\u001b[0mround\u001b[0m\u001b[1;33m(\u001b[0m\u001b[0mbust\u001b[0m\u001b[1;33m/\u001b[0m\u001b[0mtotal_iterations\u001b[0m\u001b[1;33m,\u001b[0m\u001b[1;36m4\u001b[0m\u001b[1;33m)\u001b[0m\u001b[1;33m)\u001b[0m\u001b[1;33m]\u001b[0m\u001b[1;33m,\u001b[0m \u001b[0mloc\u001b[0m\u001b[1;33m=\u001b[0m\u001b[1;34m'upper right'\u001b[0m\u001b[1;33m,\u001b[0m\u001b[0mprop\u001b[0m\u001b[1;33m=\u001b[0m\u001b[1;33m{\u001b[0m\u001b[1;34m'size'\u001b[0m\u001b[1;33m:\u001b[0m \u001b[1;36m20\u001b[0m\u001b[1;33m}\u001b[0m\u001b[1;33m)\u001b[0m\u001b[1;33m\u001b[0m\u001b[1;33m\u001b[0m\u001b[0m\n\u001b[0;32m      4\u001b[0m \u001b[0mplt\u001b[0m\u001b[1;33m.\u001b[0m\u001b[0mylim\u001b[0m\u001b[1;33m(\u001b[0m\u001b[1;36m0\u001b[0m\u001b[1;33m,\u001b[0m\u001b[1;36m0.19\u001b[0m\u001b[1;33m)\u001b[0m\u001b[1;33m\u001b[0m\u001b[1;33m\u001b[0m\u001b[0m\n\u001b[0;32m      5\u001b[0m \u001b[0mplt\u001b[0m\u001b[1;33m.\u001b[0m\u001b[0mtitle\u001b[0m\u001b[1;33m(\u001b[0m\u001b[1;34m\"Dealer Score Distribution When Sticking on 17 +\"\u001b[0m\u001b[1;33m)\u001b[0m\u001b[1;33m\u001b[0m\u001b[1;33m\u001b[0m\u001b[0m\n",
      "\u001b[1;31mTypeError\u001b[0m: unsupported operand type(s) for +: 'int' and 'dict'"
     ]
    }
   ],
   "source": [
    "custom_hist(range(17,27),[i/sum([i for i in scores.values() if i != 0]) for i in scores.values() if i != 0], boxes = True, proportions = (17,5))\n",
    "plt.axvline(x=21.5, color='black', linestyle='--',  label = \"Expected Proportion For Equal Probabilities\")\n",
    "plt.legend([\"Proportion Bust: \" + str(round(bust/total_iterations,4))], loc='upper right',prop={'size': 20})\n",
    "plt.ylim(0,0.19)\n",
    "plt.title(\"Dealer Score Distribution When Sticking on 17 +\")\n",
    "plt.xlabel(\"Dealer Score\")\n",
    "plt.ylabel(\"Proportion\")\n",
    "plt.savefig(\"Dealer_Score_Dist.png\", dpi = 700, bbox_inches='tight')"
   ]
  },
  {
   "cell_type": "markdown",
   "id": "e5a10de9-95a9-4f8f-9d51-9161d015faa9",
   "metadata": {},
   "source": [
    "### For the dealers first card, what is his final score distribution since we dont know the hidden card?"
   ]
  },
  {
   "cell_type": "code",
   "execution_count": 34,
   "id": "3db99ad9-68fe-48cd-a13b-8bd9149eb97a",
   "metadata": {},
   "outputs": [
    {
     "data": {
      "text/plain": [
       "111.63971900939941"
      ]
     },
     "execution_count": 34,
     "metadata": {},
     "output_type": "execute_result"
    }
   ],
   "source": [
    "total_iterations = 10**5\n",
    "percard = dict([str(key),0] for key in range(17,27))\n",
    "scores = {}\n",
    "\n",
    "start = ti.time()\n",
    "for card in np.unique(full_deck):\n",
    "    iterations = total_iterations\n",
    "    percard = dict([str(key),0] for key in range(17,27))\n",
    "    while iterations > 0:\n",
    "        test = game(dealer_initial_hand = [card])\n",
    "        while test.dealer.score() < 17:\n",
    "            test.dealer.draw(test.deck)\n",
    "\n",
    "\n",
    "        percard[str(test.dealer.score())] += 1\n",
    "        iterations -= 1\n",
    "    scores[str(card)] = percard \n",
    "ti.time() - start"
   ]
  },
  {
   "cell_type": "markdown",
   "id": "cfb2db90-8554-4558-ac68-8224920ffdf2",
   "metadata": {},
   "source": [
    "I now make histograms corresponding to the final dealer score distributon if the dealer's visible card is that shown in the title:"
   ]
  },
  {
   "cell_type": "code",
   "execution_count": 52,
   "id": "deac5fa3-c2a5-449b-8464-6e271aac8f26",
   "metadata": {},
   "outputs": [
    {
     "data": {
      "text/plain": [
       "array(['10', '2', '3', '4', '5', '6', '7', '8', '9', 'A', 'J', 'K', 'Q'],\n",
       "      dtype='<U2')"
      ]
     },
     "execution_count": 52,
     "metadata": {},
     "output_type": "execute_result"
    }
   ],
   "source": [
    "np.unique(full_deck)"
   ]
  },
  {
   "cell_type": "code",
   "execution_count": 60,
   "id": "bb6c2269-b940-4a1b-8a8a-482f1c26d1ea",
   "metadata": {},
   "outputs": [
    {
     "data": {
      "image/png": "[encoded data removed]",
      "text/plain": [
       "<Figure size 2160x972 with 9 Axes>"
      ]
     },
     "metadata": {
      "needs_background": "light"
     },
     "output_type": "display_data"
    }
   ],
   "source": [
    "fig = plt.figure(figsize=(30,13.5))\n",
    "for i in range(0,9):\n",
    "    ax = fig.add_subplot(4,3,i+1)\n",
    "    #Fix then blow into proportions\n",
    "    current_card = ['2', '3', '4', '5', '6', '7', '8', '9','10'][i]\n",
    "    plt.axvline(x=4.5, color='black', linestyle='--',  label = \"Expected Proportion For Equal Probabilities\")\n",
    "    custom_hist(list(scores[current_card].keys()),np.array(list(scores[current_card].values()))/sum(list(scores[current_card].values())), boxes = True, proportions = [])\n",
    "    bust = sum(list(scores[current_card].values())[5:])\n",
    "    plt.legend([\"Proportion Bust: \" + str(round(bust/100000,4))], loc='upper right',prop={'size': 15})\n",
    "    if current_card == \"10\":\n",
    "        current_card = \"10/J/Q/K\"\n",
    "    ax.title.set_text(\"Dealer's visible card is: \" + str(current_card))\n",
    "    #ax.legend(loc='upper right')\n",
    "    ax.set_ylim([0,.4])\n",
    "#plt.show()\n",
    "plt.savefig(\"Dealer_Complete_score.png\", dpi = 300, bbox_inches='tight')"
   ]
  },
  {
   "cell_type": "code",
   "execution_count": 68,
   "id": "a41b855e-ca77-4343-ae55-2d32b894f27a",
   "metadata": {},
   "outputs": [],
   "source": [
    "def custom_hist(labels, data, xlabel = None, ylabel = None, title = None, boxes = False, proportions = (12,5)):\n",
    "    if proportions != []:\n",
    "        fig = plt.figure(figsize=proportions)\n",
    "    plt.bar(labels, data, color = \"red\")\n",
    "    plt.grid()\n",
    "    if boxes == True:\n",
    "        for i in range(len(labels)):\n",
    "            plt.text(labels[i], round(data[i],4), round(data[i],2), ha = 'center', va = \"bottom\",bbox = dict(facecolor = 'red', alpha =.8))"
   ]
  },
  {
   "cell_type": "code",
   "execution_count": 77,
   "id": "71fc005b-3b32-467a-adc6-53ff5ff7c4d5",
   "metadata": {},
   "outputs": [
    {
     "data": {
      "image/png": "[encoded data removed]",
      "text/plain": [
       "<Figure size 2160x720 with 10 Axes>"
      ]
     },
     "metadata": {
      "needs_background": "light"
     },
     "output_type": "display_data"
    }
   ],
   "source": [
    "fig = plt.figure(figsize=(30,10))\n",
    "for i in range(0,10):\n",
    "    ax = fig.add_subplot(2,5,i+1)\n",
    "    #Fix then blow into proportions\n",
    "    current_card = ['2', '3', '4', '5', '6', '7', '8', '9','10', 'A'][i]\n",
    "    plt.axvline(x=4.5, color='black', linestyle='--',  label = \"Expected Proportion For Equal Probabilities\")\n",
    "    custom_hist(list(scores[current_card].keys()),np.array(list(scores[current_card].values()))/sum(list(scores[current_card].values())), boxes = True, proportions = [])\n",
    "    bust = sum(list(scores[current_card].values())[5:])\n",
    "    plt.legend([\"Bust: \" + str(round(bust/100000,4))], loc='upper right',prop={'size': 13})\n",
    "    if current_card == \"10\":\n",
    "        current_card = \"10/J/Q/K\"\n",
    "    ax.title.set_text(\"Dealer's visible card is: \" + str(current_card))\n",
    "    #ax.legend(loc='upper right')\n",
    "    if i < 5:\n",
    "        ax.set_ylim([0,.2])\n",
    "    if i >= 5:\n",
    "        ax.set_ylim([0,.4])\n",
    "#plt.show()\n",
    "plt.savefig(\"Dealer_Complete_score.png\", dpi = 300, bbox_inches='tight')"
   ]
  },
  {
   "cell_type": "markdown",
   "id": "35b6832d-8299-4f09-b47e-74747c1d2c39",
   "metadata": {},
   "source": [
    "# Optimal Stategy\n",
    "\n",
    "We now move onto the next stage of the project which is calculation of the optimal blackjack startegy for single deck blackjack. This will be done by simulating every possible hand and by properly weighting all possible future hands and their win probabilities I will calculate the optimal move at any hand. The first thing to do is to remove all \"face\" cards. They are equivalent to \"10\" and so only act to complicate things:"
   ]
  },
  {
   "cell_type": "code",
   "execution_count": 141,
   "id": "389b522a-c25f-4c31-a4dc-20dbfbf771a9",
   "metadata": {},
   "outputs": [],
   "source": [
    "full_deck = [\"2\",\"3\",\"4\",\"5\",\"6\",\"7\",\"8\",\"9\",\"1\",\"1\",\"1\",\"1\",\"0\"]*4 #1 == 10, 0 == A\n",
    "options = [\"2\",\"3\",\"4\",\"5\",\"6\",\"7\",\"8\",\"9\",\"1\",\"0\"]"
   ]
  },
  {
   "cell_type": "markdown",
   "id": "c441005c-b8cf-4b50-a1bd-06f830549de3",
   "metadata": {},
   "source": [
    "Now I need to calculate every possible hand in single hand blackjack:#Needs to be edited to function with more than 2 tens"
   ]
  },
  {
   "cell_type": "code",
   "execution_count": 386,
   "id": "6df0a163-1c36-4662-a2c6-1675403a8614",
   "metadata": {},
   "outputs": [],
   "source": [
    "def score(current_hand):\n",
    "    score = 0\n",
    "    high_aces = 0\n",
    "    low_aces = 0\n",
    "    for i in current_hand:\n",
    "        if i[0] != \"0\":\n",
    "            if i.isdigit() and int(i) > 1:\n",
    "                 score += int(i)\n",
    "            else:\n",
    "                 score += 10\n",
    "        if i[0] == \"0\": \n",
    "            high_aces += 1\n",
    "        \n",
    "    while high_aces > 0:\n",
    "        if score + 11*high_aces + low_aces < 22:\n",
    "            score += 11*high_aces \n",
    "            high_aces = 0\n",
    "        if score + 11*high_aces + low_aces > 21:\n",
    "            high_aces -= 1\n",
    "            low_aces += 1\n",
    "\n",
    "    return score + low_aces"
   ]
  },
  {
   "cell_type": "code",
   "execution_count": 380,
   "id": "c76248c4-68b4-4e66-aafa-041c24ab18ee",
   "metadata": {},
   "outputs": [
    {
     "name": "stdout",
     "output_type": "stream",
     "text": [
      "0.4929542541503906\n"
     ]
    }
   ],
   "source": [
    "table = {}\n",
    "start = ti.time()\n",
    "\n",
    "current = []\n",
    "       \n",
    "for i in (full_deck[0:13]):\n",
    "    for j in (full_deck[0:13]):\n",
    "        temp = [i,j]\n",
    "        temp.sort()\n",
    "        if \"\".join(temp)+\"s\"+\"0\" not in list(table.keys()):\n",
    "            for dealer_card in (full_deck[0:13]):    \n",
    "                table[\"\".join(temp)+\"s\"+dealer_card] = np.array([0,0,0])\n",
    "                table[\"\".join(temp)+\"h\"+dealer_card] = np.array([0,0,0])\n",
    "            if score(temp) < 22: #It makes sense to do all because 21 is guarenteed stick but crucially I will be weighting success and different positions will have more ties depsite having blackjack\n",
    "                current.append(list(temp))\n",
    "\n",
    "for num_starting_cards in range(0,21):\n",
    "    new = []\n",
    "    for i in current:\n",
    "        for j in (full_deck[0:13]):\n",
    "            if score(list(i) + [j]) < 22:\n",
    "                max_num_cards = 0\n",
    "                for cycle in (full_deck[0:13]):\n",
    "                    if (list(i) + [j]).count(cycle) > max_num_cards:\n",
    "                        max_num_cards = (list(i) + [j]).count(cycle)\n",
    "                if max_num_cards < 5 and (list(i) + [j]).count(\"1\") < 16:#Single deck. Only maintain hands with four of the same card and 16 for 10 as the 10 cardappears 16 times\n",
    "                    temp = i + [j]\n",
    "                    temp.sort()\n",
    "                    for dealer_card in [card for card in full_deck[0:13] if (i + [j]).count(card) < 4]:#Tens arent a problem as more than 2 is bust anyway\n",
    "                        table[\"\".join(temp)+\"s\"+dealer_card] = np.array([0,0,0])\n",
    "                        table[\"\".join(temp)+\"h\"+dealer_card] = np.array([0,0,0])\n",
    "                    if temp not in new:\n",
    "                        new.append(list(temp))\n",
    " \n",
    "        current = new\n",
    "        \n",
    "print(ti.time()-start)\n",
    "pd.DataFrame(pd.Series(table,index=table.keys())).to_csv(\"data.csv\")"
   ]
  },
  {
   "cell_type": "code",
   "execution_count": 381,
   "id": "450be0f2-27cd-415d-a1a6-a88a61a3e783",
   "metadata": {},
   "outputs": [
    {
     "name": "stdout",
     "output_type": "stream",
     "text": [
      "19620 Possibe Hands in Single Deck Blackjack\n"
     ]
    }
   ],
   "source": [
    "print(str(int(len(table)/2))+\" Possibe Hands in Single Deck Blackjack\")#1200"
   ]
  },
  {
   "cell_type": "markdown",
   "id": "e0bbc1b3-e2c8-4b29-8270-cf6bf686a4b0",
   "metadata": {},
   "source": [
    "Now we make some alterations to the dataframe:"
   ]
  },
  {
   "cell_type": "code",
   "execution_count": 382,
   "id": "8ec06d2d-1634-4fba-b05a-ecf1175f49b9",
   "metadata": {},
   "outputs": [],
   "source": [
    "test = pd.DataFrame(pd.Series(table,index=table.keys()))\n",
    "\n",
    "dealer_cards = []\n",
    "hand_sizes = []\n",
    "player_score = []\n",
    "decisions = []\n",
    "hands = []\n",
    "for i in test.index:\n",
    "    hand, decision,dealer = convert(i)\n",
    "    player_score.append(score(hand))\n",
    "    hand = [int(i) for i in hand]\n",
    "    hands.append(hand)\n",
    "    hand_sizes.append(len(hand))\n",
    "    dealer_cards.append([int(i) for i in dealer])\n",
    "    decisions.append(decision)\n",
    "\n",
    "test[\"Player Wins\"] = 0\n",
    "test[\"Dealer Wins\"] = 0\n",
    "test[\"Ties\"] = 0\n",
    "test[\"Hands\"] = hands\n",
    "test[\"Dealer Card\"] = dealer_cards\n",
    "test[\"Hand Size\"] = hand_sizes\n",
    "test[\"Player Score\"] = player_score\n",
    "test[\"Decision\"] = decisions\n",
    "test[\"Optimal\"] = 0\n",
    "test[\"Expected Return\"] = 0\n",
    "del test[0]\n",
    "test.to_csv(\"data.csv\")"
   ]
  },
  {
   "cell_type": "markdown",
   "id": "fbc7f169-3555-4cf1-9177-0ca332d0289e",
   "metadata": {},
   "source": [
    "Above I have adopted a consistent key structure in the dictionary. A particular hand has the form PlayerHand/Stick or Hit/DealerVisibleCard. For example, a player with the hand 2,2 that is hitting with the dealer holding 7 is \"22h7\" where the player hand is always sorted. I now make a function to convert dictionary keys back to hands:"
   ]
  },
  {
   "cell_type": "code",
   "execution_count": 387,
   "id": "52b27693-3524-42a1-8e26-483b37e58eab",
   "metadata": {},
   "outputs": [],
   "source": [
    "def convert(hand):\n",
    "    new_hand = []\n",
    "    hand = list(hand)\n",
    "    for i in hand:\n",
    "        if i == \"s\" or i == \"h\":\n",
    "            break\n",
    "        else:\n",
    "            new_hand.append(i)\n",
    "    \n",
    "    dealer = hand[-1]\n",
    "        \n",
    "    if \"h\" in hand:\n",
    "        stick = 1\n",
    "    else:\n",
    "        stick = 0\n",
    "    \n",
    "    return(new_hand,stick,[dealer])"
   ]
  },
  {
   "cell_type": "code",
   "execution_count": 388,
   "id": "aaba680e-915b-4530-bf41-fe7b7565c399",
   "metadata": {},
   "outputs": [],
   "source": [
    "def runner(hand,iterations):\n",
    "    current_score = np.array([0,0,0])\n",
    "    hand, total_draws, dealer_first_card = convert(hand)\n",
    "    while iterations > 0:\n",
    "        test = game(player_initial_hand = hand, dealer_initial_hand = dealer_first_card)\n",
    "        allowed_draws =  total_draws\n",
    "        while allowed_draws > 0:\n",
    "            test.player.draw(test.deck)\n",
    "            allowed_draws -= 1\n",
    "\n",
    "#------------------------------------------------------------------------------------\n",
    "\n",
    "            while allowed_draws > 0:\n",
    "                test.player.draw(test.deck)\n",
    "                allowed_draws -= 1\n",
    "\n",
    "\n",
    "        while score(test.dealer.show_hand()) < 17:\n",
    "            test.dealer.draw(test.deck)\n",
    "        \n",
    "        \n",
    "        winner, hand = decision(test.player, test.dealer)\n",
    "        \n",
    "        iterations -= 1\n",
    "        current_score += winner\n",
    "            \n",
    "#------------------------------------------------------------------------------------\n",
    "    return(current_score)"
   ]
  },
  {
   "cell_type": "code",
   "execution_count": 397,
   "id": "94c8766e-0e6c-49a4-8a7e-fcaf7dd91bd6",
   "metadata": {},
   "outputs": [
    {
     "name": "stdout",
     "output_type": "stream",
     "text": [
      "219.93650317192078\n"
     ]
    }
   ],
   "source": [
    "num_new_simulations = 100\n",
    "#------------------------------------------------------------------------------------\n",
    "#Import current simulation data\n",
    "#------------------------------------------------------------------------------------\n",
    "data = pd.read_csv(\"data.csv\",index_col = 0)\n",
    "table = {}\n",
    "for i,j,k,l in zip(data.index, data[\"Player Wins\"], data[\"Dealer Wins\"], data[\"Ties\"]):\n",
    "    table[i] = np.array([j,k,l])\n",
    "#------------------------------------------------------------------------------------  \n",
    "#Run new simulations and add to cumulative data\n",
    "#------------------------------------------------------------------------------------\n",
    "start = ti.time()\n",
    "for i in list(table.keys()):\n",
    "    if \"s\" in list(i):\n",
    "        table[i] = list(table[i] +  runner(i,num_new_simulations))\n",
    "print(ti.time()-start)\n",
    "#------------------------------------------------------------------------------------\n",
    "#Create dataframe to be created and save\n",
    "#------------------------------------------------------------------------------------\n",
    "player_wins = []\n",
    "dealer_wins = []\n",
    "ties = []\n",
    "for i in table.values():\n",
    "    player_wins.append(i[0])\n",
    "    dealer_wins.append(i[1])\n",
    "    ties.append(i[2])\n",
    "data[\"Player Wins\"] = np.array(player_wins)\n",
    "data[\"Dealer Wins\"] = np.array(dealer_wins)\n",
    "data[\"Ties\"] = np.array(ties)\n",
    "data.to_csv(\"data.csv\")"
   ]
  },
  {
   "cell_type": "markdown",
   "id": "c82eea34-bfbf-423d-8ba5-2f4fd22350d4",
   "metadata": {},
   "source": [
    "### Use above data to calculate optimal strategy:"
   ]
  },
  {
   "cell_type": "code",
   "execution_count": 398,
   "id": "56be658c-4dc3-4c19-8914-3481a3bed317",
   "metadata": {},
   "outputs": [
    {
     "data": {
      "text/html": [
       "<div>\n",
       "<style scoped>\n",
       "    .dataframe tbody tr th:only-of-type {\n",
       "        vertical-align: middle;\n",
       "    }\n",
       "\n",
       "    .dataframe tbody tr th {\n",
       "        vertical-align: top;\n",
       "    }\n",
       "\n",
       "    .dataframe thead th {\n",
       "        text-align: right;\n",
       "    }\n",
       "</style>\n",
       "<table border=\"1\" class=\"dataframe\">\n",
       "  <thead>\n",
       "    <tr style=\"text-align: right;\">\n",
       "      <th></th>\n",
       "      <th>Player Wins</th>\n",
       "      <th>Dealer Wins</th>\n",
       "      <th>Ties</th>\n",
       "      <th>Hands</th>\n",
       "      <th>Dealer Card</th>\n",
       "      <th>Hand Size</th>\n",
       "      <th>Player Score</th>\n",
       "      <th>Decision</th>\n",
       "      <th>Optimal</th>\n",
       "      <th>Expected Return</th>\n",
       "    </tr>\n",
       "  </thead>\n",
       "  <tbody>\n",
       "    <tr>\n",
       "      <th>22s2</th>\n",
       "      <td>63</td>\n",
       "      <td>35</td>\n",
       "      <td>13</td>\n",
       "      <td>[2, 2]</td>\n",
       "      <td>[2]</td>\n",
       "      <td>2</td>\n",
       "      <td>4</td>\n",
       "      <td>0</td>\n",
       "      <td>0</td>\n",
       "      <td>0</td>\n",
       "    </tr>\n",
       "    <tr>\n",
       "      <th>22h2</th>\n",
       "      <td>0</td>\n",
       "      <td>0</td>\n",
       "      <td>0</td>\n",
       "      <td>[2, 2]</td>\n",
       "      <td>[2]</td>\n",
       "      <td>2</td>\n",
       "      <td>4</td>\n",
       "      <td>1</td>\n",
       "      <td>0</td>\n",
       "      <td>0</td>\n",
       "    </tr>\n",
       "    <tr>\n",
       "      <th>22s3</th>\n",
       "      <td>70</td>\n",
       "      <td>33</td>\n",
       "      <td>8</td>\n",
       "      <td>[2, 2]</td>\n",
       "      <td>[3]</td>\n",
       "      <td>2</td>\n",
       "      <td>4</td>\n",
       "      <td>0</td>\n",
       "      <td>0</td>\n",
       "      <td>0</td>\n",
       "    </tr>\n",
       "    <tr>\n",
       "      <th>22h3</th>\n",
       "      <td>0</td>\n",
       "      <td>0</td>\n",
       "      <td>0</td>\n",
       "      <td>[2, 2]</td>\n",
       "      <td>[3]</td>\n",
       "      <td>2</td>\n",
       "      <td>4</td>\n",
       "      <td>1</td>\n",
       "      <td>0</td>\n",
       "      <td>0</td>\n",
       "    </tr>\n",
       "    <tr>\n",
       "      <th>22s4</th>\n",
       "      <td>63</td>\n",
       "      <td>38</td>\n",
       "      <td>10</td>\n",
       "      <td>[2, 2]</td>\n",
       "      <td>[4]</td>\n",
       "      <td>2</td>\n",
       "      <td>4</td>\n",
       "      <td>0</td>\n",
       "      <td>0</td>\n",
       "      <td>0</td>\n",
       "    </tr>\n",
       "    <tr>\n",
       "      <th>...</th>\n",
       "      <td>...</td>\n",
       "      <td>...</td>\n",
       "      <td>...</td>\n",
       "      <td>...</td>\n",
       "      <td>...</td>\n",
       "      <td>...</td>\n",
       "      <td>...</td>\n",
       "      <td>...</td>\n",
       "      <td>...</td>\n",
       "      <td>...</td>\n",
       "    </tr>\n",
       "    <tr>\n",
       "      <th>00002222333h8</th>\n",
       "      <td>0</td>\n",
       "      <td>0</td>\n",
       "      <td>0</td>\n",
       "      <td>[0, 0, 0, 0, 2, 2, 2, 2, 3, 3, 3]</td>\n",
       "      <td>[8]</td>\n",
       "      <td>11</td>\n",
       "      <td>21</td>\n",
       "      <td>1</td>\n",
       "      <td>0</td>\n",
       "      <td>0</td>\n",
       "    </tr>\n",
       "    <tr>\n",
       "      <th>00002222333s9</th>\n",
       "      <td>69</td>\n",
       "      <td>30</td>\n",
       "      <td>12</td>\n",
       "      <td>[0, 0, 0, 0, 2, 2, 2, 2, 3, 3, 3]</td>\n",
       "      <td>[9]</td>\n",
       "      <td>11</td>\n",
       "      <td>21</td>\n",
       "      <td>0</td>\n",
       "      <td>0</td>\n",
       "      <td>0</td>\n",
       "    </tr>\n",
       "    <tr>\n",
       "      <th>00002222333h9</th>\n",
       "      <td>0</td>\n",
       "      <td>0</td>\n",
       "      <td>0</td>\n",
       "      <td>[0, 0, 0, 0, 2, 2, 2, 2, 3, 3, 3]</td>\n",
       "      <td>[9]</td>\n",
       "      <td>11</td>\n",
       "      <td>21</td>\n",
       "      <td>1</td>\n",
       "      <td>0</td>\n",
       "      <td>0</td>\n",
       "    </tr>\n",
       "    <tr>\n",
       "      <th>00002222333s1</th>\n",
       "      <td>64</td>\n",
       "      <td>29</td>\n",
       "      <td>18</td>\n",
       "      <td>[0, 0, 0, 0, 2, 2, 2, 2, 3, 3, 3]</td>\n",
       "      <td>[1]</td>\n",
       "      <td>11</td>\n",
       "      <td>21</td>\n",
       "      <td>0</td>\n",
       "      <td>0</td>\n",
       "      <td>0</td>\n",
       "    </tr>\n",
       "    <tr>\n",
       "      <th>00002222333h1</th>\n",
       "      <td>0</td>\n",
       "      <td>0</td>\n",
       "      <td>0</td>\n",
       "      <td>[0, 0, 0, 0, 2, 2, 2, 2, 3, 3, 3]</td>\n",
       "      <td>[1]</td>\n",
       "      <td>11</td>\n",
       "      <td>21</td>\n",
       "      <td>1</td>\n",
       "      <td>0</td>\n",
       "      <td>0</td>\n",
       "    </tr>\n",
       "  </tbody>\n",
       "</table>\n",
       "<p>39240 rows × 10 columns</p>\n",
       "</div>"
      ],
      "text/plain": [
       "               Player Wins  Dealer Wins  Ties  \\\n",
       "22s2                    63           35    13   \n",
       "22h2                     0            0     0   \n",
       "22s3                    70           33     8   \n",
       "22h3                     0            0     0   \n",
       "22s4                    63           38    10   \n",
       "...                    ...          ...   ...   \n",
       "00002222333h8            0            0     0   \n",
       "00002222333s9           69           30    12   \n",
       "00002222333h9            0            0     0   \n",
       "00002222333s1           64           29    18   \n",
       "00002222333h1            0            0     0   \n",
       "\n",
       "                                           Hands Dealer Card  Hand Size  \\\n",
       "22s2                                      [2, 2]         [2]          2   \n",
       "22h2                                      [2, 2]         [2]          2   \n",
       "22s3                                      [2, 2]         [3]          2   \n",
       "22h3                                      [2, 2]         [3]          2   \n",
       "22s4                                      [2, 2]         [4]          2   \n",
       "...                                          ...         ...        ...   \n",
       "00002222333h8  [0, 0, 0, 0, 2, 2, 2, 2, 3, 3, 3]         [8]         11   \n",
       "00002222333s9  [0, 0, 0, 0, 2, 2, 2, 2, 3, 3, 3]         [9]         11   \n",
       "00002222333h9  [0, 0, 0, 0, 2, 2, 2, 2, 3, 3, 3]         [9]         11   \n",
       "00002222333s1  [0, 0, 0, 0, 2, 2, 2, 2, 3, 3, 3]         [1]         11   \n",
       "00002222333h1  [0, 0, 0, 0, 2, 2, 2, 2, 3, 3, 3]         [1]         11   \n",
       "\n",
       "               Player Score  Decision  Optimal  Expected Return  \n",
       "22s2                      4         0        0                0  \n",
       "22h2                      4         1        0                0  \n",
       "22s3                      4         0        0                0  \n",
       "22h3                      4         1        0                0  \n",
       "22s4                      4         0        0                0  \n",
       "...                     ...       ...      ...              ...  \n",
       "00002222333h8            21         1        0                0  \n",
       "00002222333s9            21         0        0                0  \n",
       "00002222333h9            21         1        0                0  \n",
       "00002222333s1            21         0        0                0  \n",
       "00002222333h1            21         1        0                0  \n",
       "\n",
       "[39240 rows x 10 columns]"
      ]
     },
     "execution_count": 398,
     "metadata": {},
     "output_type": "execute_result"
    }
   ],
   "source": [
    "data = pd.read_csv(\"data.csv\",index_col = 0)\n",
    "data"
   ]
  },
  {
   "cell_type": "code",
   "execution_count": 216,
   "id": "bddb44f2-365b-48d5-a287-8425aa0abd4d",
   "metadata": {},
   "outputs": [],
   "source": [
    "#Says if hand b is a parent of hand a\n",
    "def bigger(hand,compare_hand):\n",
    "    missing_cards = 0\n",
    "    for i in hand:\n",
    "        if i not in compare_hand:\n",
    "            missing_cards += 1\n",
    "        if i in compare_hand:\n",
    "            compare_hand.remove(i)\n",
    "    if missing_cards < 1:\n",
    "        return(True)\n",
    "    if missing_cards >= 1:\n",
    "        return(False)"
   ]
  },
  {
   "cell_type": "markdown",
   "id": "6679e32f-ffeb-4c62-8ef6-f1484a4eb6b1",
   "metadata": {},
   "source": [
    "# Data Analysis"
   ]
  },
  {
   "cell_type": "markdown",
   "id": "75b46a5a-269e-493c-b2af-a18e13994453",
   "metadata": {},
   "source": [
    "- Go through hands of length 10. They must be terminal hands requiring a stick as therea re no valid length 11 hands.\n",
    "- Calculate the associated expected return of these hands and save them to the data frame.\n",
    "- Move to length 9 hands. Expected return is weighted expected returns of length 10 hands that can be obtained from that length 9 hand. Repeat. \n"
   ]
  },
  {
   "cell_type": "markdown",
   "id": "5cf8e551-5fe7-4718-98c7-e7e8b6b5f226",
   "metadata": {},
   "source": [
    "First We need a function to calculate the probability that a hand will be drawn form another hand eg Pr([2,2] -> [2,2,3])def likelihood(current,dealer,target):\n",
    "    for i in current:\n",
    "        target.remove(i)\n",
    "    to_draw = target[0]\n",
    "    if to_draw == \"10\":\n",
    "        count = 16\n",
    "    else:\n",
    "        count = 4\n",
    "    for i in current + dealer:\n",
    "        if i == to_draw:\n",
    "            count -= 1\n",
    "    print(count)\n",
    "    proability = count/(52 - 1 - len(current))\n",
    "    return(proability)\n",
    "    "
   ]
  },
  {
   "cell_type": "code",
   "execution_count": 255,
   "id": "0729d447-dd5b-43f5-a6ec-7a60ab75412e",
   "metadata": {},
   "outputs": [],
   "source": [
    "def likelihood(current,dealer,target):\n",
    "    for i in current:\n",
    "        target.remove(i)\n",
    "    to_draw = target[0]\n",
    "    if to_draw == \"10\":\n",
    "        count = 16\n",
    "    else:\n",
    "        count = 4\n",
    "    for i in current + dealer:\n",
    "        if i == to_draw:\n",
    "            count -= 1\n",
    "    proability = count/(52 - 1 - len(current))\n",
    "    return(proability)"
   ]
  },
  {
   "cell_type": "code",
   "execution_count": 374,
   "id": "a0d6e0f6-ab9f-4078-8abf-a9b8a4cad2b5",
   "metadata": {},
   "outputs": [],
   "source": [
    "data = pd.read_csv(\"data.csv\",index_col = 0)"
   ]
  },
  {
   "cell_type": "code",
   "execution_count": 375,
   "id": "295fee18-bc64-4954-aed2-45c3391287a2",
   "metadata": {},
   "outputs": [],
   "source": [
    "#for i in data[data[\"Hand Size\"] == 11].index:\n",
    "data[\"Expected Return\"] = (data[\"Player Wins\"] - data[\"Dealer Wins\"])/(data[\"Player Wins\"] + data[\"Dealer Wins\"])"
   ]
  },
  {
   "cell_type": "code",
   "execution_count": 376,
   "id": "09b490aa-241a-4884-8162-c80c3f8af3ba",
   "metadata": {},
   "outputs": [],
   "source": [
    "for i in data[data[\"Hand Size\"] == 11].index:\n",
    "    if \"h\" in list(i):\n",
    "        data.at[i,\"Optimal\"] = 0\n",
    "    else:\n",
    "        data.at[i,\"Optimal\"] = 1"
   ]
  },
  {
   "cell_type": "code",
   "execution_count": 378,
   "id": "89b85cc1-6aea-4407-8b36-5827683f7276",
   "metadata": {},
   "outputs": [
    {
     "data": {
      "text/html": [
       "<div>\n",
       "<style scoped>\n",
       "    .dataframe tbody tr th:only-of-type {\n",
       "        vertical-align: middle;\n",
       "    }\n",
       "\n",
       "    .dataframe tbody tr th {\n",
       "        vertical-align: top;\n",
       "    }\n",
       "\n",
       "    .dataframe thead th {\n",
       "        text-align: right;\n",
       "    }\n",
       "</style>\n",
       "<table border=\"1\" class=\"dataframe\">\n",
       "  <thead>\n",
       "    <tr style=\"text-align: right;\">\n",
       "      <th></th>\n",
       "      <th>Player Wins</th>\n",
       "      <th>Dealer Wins</th>\n",
       "      <th>Ties</th>\n",
       "      <th>Hands</th>\n",
       "      <th>Dealer Card</th>\n",
       "      <th>Hand Size</th>\n",
       "      <th>Player Score</th>\n",
       "      <th>Decision</th>\n",
       "      <th>Optimal</th>\n",
       "      <th>Expected Return</th>\n",
       "    </tr>\n",
       "  </thead>\n",
       "  <tbody>\n",
       "    <tr>\n",
       "      <th>00002222333s3</th>\n",
       "      <td>311</td>\n",
       "      <td>155</td>\n",
       "      <td>46</td>\n",
       "      <td>[0, 0, 0, 0, 2, 2, 2, 2, 3, 3, 3]</td>\n",
       "      <td>[3]</td>\n",
       "      <td>11</td>\n",
       "      <td>21</td>\n",
       "      <td>0</td>\n",
       "      <td>1</td>\n",
       "      <td>0.334764</td>\n",
       "    </tr>\n",
       "    <tr>\n",
       "      <th>00002222333h3</th>\n",
       "      <td>0</td>\n",
       "      <td>1</td>\n",
       "      <td>0</td>\n",
       "      <td>[0, 0, 0, 0, 2, 2, 2, 2, 3, 3, 3]</td>\n",
       "      <td>[3]</td>\n",
       "      <td>11</td>\n",
       "      <td>21</td>\n",
       "      <td>1</td>\n",
       "      <td>0</td>\n",
       "      <td>-1.000000</td>\n",
       "    </tr>\n",
       "    <tr>\n",
       "      <th>00002222333s4</th>\n",
       "      <td>327</td>\n",
       "      <td>153</td>\n",
       "      <td>32</td>\n",
       "      <td>[0, 0, 0, 0, 2, 2, 2, 2, 3, 3, 3]</td>\n",
       "      <td>[4]</td>\n",
       "      <td>11</td>\n",
       "      <td>21</td>\n",
       "      <td>0</td>\n",
       "      <td>1</td>\n",
       "      <td>0.362500</td>\n",
       "    </tr>\n",
       "    <tr>\n",
       "      <th>00002222333h4</th>\n",
       "      <td>0</td>\n",
       "      <td>1</td>\n",
       "      <td>0</td>\n",
       "      <td>[0, 0, 0, 0, 2, 2, 2, 2, 3, 3, 3]</td>\n",
       "      <td>[4]</td>\n",
       "      <td>11</td>\n",
       "      <td>21</td>\n",
       "      <td>1</td>\n",
       "      <td>0</td>\n",
       "      <td>-1.000000</td>\n",
       "    </tr>\n",
       "    <tr>\n",
       "      <th>00002222333s5</th>\n",
       "      <td>327</td>\n",
       "      <td>155</td>\n",
       "      <td>30</td>\n",
       "      <td>[0, 0, 0, 0, 2, 2, 2, 2, 3, 3, 3]</td>\n",
       "      <td>[5]</td>\n",
       "      <td>11</td>\n",
       "      <td>21</td>\n",
       "      <td>0</td>\n",
       "      <td>1</td>\n",
       "      <td>0.356846</td>\n",
       "    </tr>\n",
       "    <tr>\n",
       "      <th>00002222333h5</th>\n",
       "      <td>0</td>\n",
       "      <td>1</td>\n",
       "      <td>0</td>\n",
       "      <td>[0, 0, 0, 0, 2, 2, 2, 2, 3, 3, 3]</td>\n",
       "      <td>[5]</td>\n",
       "      <td>11</td>\n",
       "      <td>21</td>\n",
       "      <td>1</td>\n",
       "      <td>0</td>\n",
       "      <td>-1.000000</td>\n",
       "    </tr>\n",
       "    <tr>\n",
       "      <th>00002222333s6</th>\n",
       "      <td>340</td>\n",
       "      <td>132</td>\n",
       "      <td>40</td>\n",
       "      <td>[0, 0, 0, 0, 2, 2, 2, 2, 3, 3, 3]</td>\n",
       "      <td>[6]</td>\n",
       "      <td>11</td>\n",
       "      <td>21</td>\n",
       "      <td>0</td>\n",
       "      <td>1</td>\n",
       "      <td>0.440678</td>\n",
       "    </tr>\n",
       "    <tr>\n",
       "      <th>00002222333h6</th>\n",
       "      <td>0</td>\n",
       "      <td>1</td>\n",
       "      <td>0</td>\n",
       "      <td>[0, 0, 0, 0, 2, 2, 2, 2, 3, 3, 3]</td>\n",
       "      <td>[6]</td>\n",
       "      <td>11</td>\n",
       "      <td>21</td>\n",
       "      <td>1</td>\n",
       "      <td>0</td>\n",
       "      <td>-1.000000</td>\n",
       "    </tr>\n",
       "    <tr>\n",
       "      <th>00002222333s7</th>\n",
       "      <td>324</td>\n",
       "      <td>142</td>\n",
       "      <td>46</td>\n",
       "      <td>[0, 0, 0, 0, 2, 2, 2, 2, 3, 3, 3]</td>\n",
       "      <td>[7]</td>\n",
       "      <td>11</td>\n",
       "      <td>21</td>\n",
       "      <td>0</td>\n",
       "      <td>1</td>\n",
       "      <td>0.390558</td>\n",
       "    </tr>\n",
       "    <tr>\n",
       "      <th>00002222333h7</th>\n",
       "      <td>0</td>\n",
       "      <td>1</td>\n",
       "      <td>0</td>\n",
       "      <td>[0, 0, 0, 0, 2, 2, 2, 2, 3, 3, 3]</td>\n",
       "      <td>[7]</td>\n",
       "      <td>11</td>\n",
       "      <td>21</td>\n",
       "      <td>1</td>\n",
       "      <td>0</td>\n",
       "      <td>-1.000000</td>\n",
       "    </tr>\n",
       "    <tr>\n",
       "      <th>00002222333s8</th>\n",
       "      <td>313</td>\n",
       "      <td>155</td>\n",
       "      <td>44</td>\n",
       "      <td>[0, 0, 0, 0, 2, 2, 2, 2, 3, 3, 3]</td>\n",
       "      <td>[8]</td>\n",
       "      <td>11</td>\n",
       "      <td>21</td>\n",
       "      <td>0</td>\n",
       "      <td>1</td>\n",
       "      <td>0.337607</td>\n",
       "    </tr>\n",
       "    <tr>\n",
       "      <th>00002222333h8</th>\n",
       "      <td>0</td>\n",
       "      <td>1</td>\n",
       "      <td>0</td>\n",
       "      <td>[0, 0, 0, 0, 2, 2, 2, 2, 3, 3, 3]</td>\n",
       "      <td>[8]</td>\n",
       "      <td>11</td>\n",
       "      <td>21</td>\n",
       "      <td>1</td>\n",
       "      <td>0</td>\n",
       "      <td>-1.000000</td>\n",
       "    </tr>\n",
       "    <tr>\n",
       "      <th>00002222333s9</th>\n",
       "      <td>290</td>\n",
       "      <td>156</td>\n",
       "      <td>66</td>\n",
       "      <td>[0, 0, 0, 0, 2, 2, 2, 2, 3, 3, 3]</td>\n",
       "      <td>[9]</td>\n",
       "      <td>11</td>\n",
       "      <td>21</td>\n",
       "      <td>0</td>\n",
       "      <td>1</td>\n",
       "      <td>0.300448</td>\n",
       "    </tr>\n",
       "    <tr>\n",
       "      <th>00002222333h9</th>\n",
       "      <td>0</td>\n",
       "      <td>1</td>\n",
       "      <td>0</td>\n",
       "      <td>[0, 0, 0, 0, 2, 2, 2, 2, 3, 3, 3]</td>\n",
       "      <td>[9]</td>\n",
       "      <td>11</td>\n",
       "      <td>21</td>\n",
       "      <td>1</td>\n",
       "      <td>0</td>\n",
       "      <td>-1.000000</td>\n",
       "    </tr>\n",
       "    <tr>\n",
       "      <th>00002222333s1</th>\n",
       "      <td>248</td>\n",
       "      <td>185</td>\n",
       "      <td>79</td>\n",
       "      <td>[0, 0, 0, 0, 2, 2, 2, 2, 3, 3, 3]</td>\n",
       "      <td>[1]</td>\n",
       "      <td>11</td>\n",
       "      <td>21</td>\n",
       "      <td>0</td>\n",
       "      <td>1</td>\n",
       "      <td>0.145497</td>\n",
       "    </tr>\n",
       "    <tr>\n",
       "      <th>00002222333h1</th>\n",
       "      <td>0</td>\n",
       "      <td>1</td>\n",
       "      <td>0</td>\n",
       "      <td>[0, 0, 0, 0, 2, 2, 2, 2, 3, 3, 3]</td>\n",
       "      <td>[1]</td>\n",
       "      <td>11</td>\n",
       "      <td>21</td>\n",
       "      <td>1</td>\n",
       "      <td>0</td>\n",
       "      <td>-1.000000</td>\n",
       "    </tr>\n",
       "  </tbody>\n",
       "</table>\n",
       "</div>"
      ],
      "text/plain": [
       "               Player Wins  Dealer Wins  Ties  \\\n",
       "00002222333s3          311          155    46   \n",
       "00002222333h3            0            1     0   \n",
       "00002222333s4          327          153    32   \n",
       "00002222333h4            0            1     0   \n",
       "00002222333s5          327          155    30   \n",
       "00002222333h5            0            1     0   \n",
       "00002222333s6          340          132    40   \n",
       "00002222333h6            0            1     0   \n",
       "00002222333s7          324          142    46   \n",
       "00002222333h7            0            1     0   \n",
       "00002222333s8          313          155    44   \n",
       "00002222333h8            0            1     0   \n",
       "00002222333s9          290          156    66   \n",
       "00002222333h9            0            1     0   \n",
       "00002222333s1          248          185    79   \n",
       "00002222333h1            0            1     0   \n",
       "\n",
       "                                           Hands Dealer Card  Hand Size  \\\n",
       "00002222333s3  [0, 0, 0, 0, 2, 2, 2, 2, 3, 3, 3]         [3]         11   \n",
       "00002222333h3  [0, 0, 0, 0, 2, 2, 2, 2, 3, 3, 3]         [3]         11   \n",
       "00002222333s4  [0, 0, 0, 0, 2, 2, 2, 2, 3, 3, 3]         [4]         11   \n",
       "00002222333h4  [0, 0, 0, 0, 2, 2, 2, 2, 3, 3, 3]         [4]         11   \n",
       "00002222333s5  [0, 0, 0, 0, 2, 2, 2, 2, 3, 3, 3]         [5]         11   \n",
       "00002222333h5  [0, 0, 0, 0, 2, 2, 2, 2, 3, 3, 3]         [5]         11   \n",
       "00002222333s6  [0, 0, 0, 0, 2, 2, 2, 2, 3, 3, 3]         [6]         11   \n",
       "00002222333h6  [0, 0, 0, 0, 2, 2, 2, 2, 3, 3, 3]         [6]         11   \n",
       "00002222333s7  [0, 0, 0, 0, 2, 2, 2, 2, 3, 3, 3]         [7]         11   \n",
       "00002222333h7  [0, 0, 0, 0, 2, 2, 2, 2, 3, 3, 3]         [7]         11   \n",
       "00002222333s8  [0, 0, 0, 0, 2, 2, 2, 2, 3, 3, 3]         [8]         11   \n",
       "00002222333h8  [0, 0, 0, 0, 2, 2, 2, 2, 3, 3, 3]         [8]         11   \n",
       "00002222333s9  [0, 0, 0, 0, 2, 2, 2, 2, 3, 3, 3]         [9]         11   \n",
       "00002222333h9  [0, 0, 0, 0, 2, 2, 2, 2, 3, 3, 3]         [9]         11   \n",
       "00002222333s1  [0, 0, 0, 0, 2, 2, 2, 2, 3, 3, 3]         [1]         11   \n",
       "00002222333h1  [0, 0, 0, 0, 2, 2, 2, 2, 3, 3, 3]         [1]         11   \n",
       "\n",
       "               Player Score  Decision  Optimal  Expected Return  \n",
       "00002222333s3            21         0        1         0.334764  \n",
       "00002222333h3            21         1        0        -1.000000  \n",
       "00002222333s4            21         0        1         0.362500  \n",
       "00002222333h4            21         1        0        -1.000000  \n",
       "00002222333s5            21         0        1         0.356846  \n",
       "00002222333h5            21         1        0        -1.000000  \n",
       "00002222333s6            21         0        1         0.440678  \n",
       "00002222333h6            21         1        0        -1.000000  \n",
       "00002222333s7            21         0        1         0.390558  \n",
       "00002222333h7            21         1        0        -1.000000  \n",
       "00002222333s8            21         0        1         0.337607  \n",
       "00002222333h8            21         1        0        -1.000000  \n",
       "00002222333s9            21         0        1         0.300448  \n",
       "00002222333h9            21         1        0        -1.000000  \n",
       "00002222333s1            21         0        1         0.145497  \n",
       "00002222333h1            21         1        0        -1.000000  "
      ]
     },
     "execution_count": 378,
     "metadata": {},
     "output_type": "execute_result"
    }
   ],
   "source": [
    "data[data[\"Hand Size\"] == 11]"
   ]
  },
  {
   "cell_type": "code",
   "execution_count": 371,
   "id": "47a6191c-acfa-488c-9f45-9046e0aeb02f",
   "metadata": {
    "tags": []
   },
   "outputs": [],
   "source": [
    "current_num = 10\n",
    "for i in data[data[\"Hand Size\"] == current_num].index:\n",
    "    ror = []\n",
    "    if \"h\" in list(i):\n",
    "        for j in options:\n",
    "            temp = list(i)[0:-2]\n",
    "            temp.insert(-1,j)\n",
    "            temp.sort()\n",
    "            temp = temp + list(i)[-2:]\n",
    "            temp = \"\".join(temp)\n",
    "            #Something wrong here\n",
    "            if temp in data[data[\"Hand Size\"] == current_num + 1].index:\n",
    "                if data[\"Optimal\"][temp] == 0:\n",
    "                    temp.replace(\"h\",\"s\")\n",
    "                daughter_hand, daughter_choice, daughter_dealer = convert(i)\n",
    "                parent_hand, parent_choice, parent_dealer = convert(temp)  \n",
    "                p = likelihood(daughter_hand, daughter_dealer, parent_hand)\n",
    "                ror.append(p * data[\"Expected Return\"][temp])\n",
    "            if temp not in data[data[\"Hand Size\"] == current_num + 1].index:\n",
    "                daughter_hand, daughter_choice, daughter_dealer = convert(i)\n",
    "                parent_hand, parent_choice, parent_dealer = convert(temp)  \n",
    "                p = likelihood(daughter_hand, daughter_dealer, parent_hand)\n",
    "                ror.append(-p)\n",
    "        ror = sum(ror)\n",
    "        data.at[i,\"Expected Return\"] = ror\n",
    "        alternative = i\n",
    "        alternative.replace(\"h\",\"s\")\n",
    "        if data[\"Expected Return\"][alternative] < data[\"Expected Return\"][i]:\n",
    "            data.at[i,\"Optimal\"] = 1\n",
    "        if data[\"Expected Return\"][alternative] >= data[\"Expected Return\"][i]:\n",
    "            data.at[alternative,\"Optimal\"] = 1"
   ]
  },
  {
   "cell_type": "code",
   "execution_count": 372,
   "id": "45d495c5-fa18-4be5-82e1-f7c3509980d8",
   "metadata": {},
   "outputs": [
    {
     "data": {
      "text/plain": [
       "nan"
      ]
     },
     "execution_count": 372,
     "metadata": {},
     "output_type": "execute_result"
    }
   ],
   "source": [
    "current = 2\n",
    "sum(data[data[\"Hand Size\"] == current][\"Expected Return\"][1::2])/len(data[data[\"Hand Size\"] == current][\"Expected Return\"][1::2])"
   ]
  },
  {
   "cell_type": "code",
   "execution_count": 373,
   "id": "80e58ea2-0e8b-4338-a082-b5e26a3c18b2",
   "metadata": {},
   "outputs": [
    {
     "data": {
      "text/html": [
       "<div>\n",
       "<style scoped>\n",
       "    .dataframe tbody tr th:only-of-type {\n",
       "        vertical-align: middle;\n",
       "    }\n",
       "\n",
       "    .dataframe tbody tr th {\n",
       "        vertical-align: top;\n",
       "    }\n",
       "\n",
       "    .dataframe thead th {\n",
       "        text-align: right;\n",
       "    }\n",
       "</style>\n",
       "<table border=\"1\" class=\"dataframe\">\n",
       "  <thead>\n",
       "    <tr style=\"text-align: right;\">\n",
       "      <th></th>\n",
       "      <th>Player Wins</th>\n",
       "      <th>Dealer Wins</th>\n",
       "      <th>Ties</th>\n",
       "      <th>Hands</th>\n",
       "      <th>Dealer Card</th>\n",
       "      <th>Hand Size</th>\n",
       "      <th>Player Score</th>\n",
       "      <th>Decision</th>\n",
       "      <th>Optimal</th>\n",
       "      <th>Expected Return</th>\n",
       "    </tr>\n",
       "  </thead>\n",
       "  <tbody>\n",
       "    <tr>\n",
       "      <th>0002222333s3</th>\n",
       "      <td>313</td>\n",
       "      <td>165</td>\n",
       "      <td>34</td>\n",
       "      <td>[0, 0, 0, 2, 2, 2, 2, 3, 3, 3]</td>\n",
       "      <td>[3]</td>\n",
       "      <td>10</td>\n",
       "      <td>20</td>\n",
       "      <td>0</td>\n",
       "      <td>0</td>\n",
       "      <td>0.309623</td>\n",
       "    </tr>\n",
       "    <tr>\n",
       "      <th>0002222333h3</th>\n",
       "      <td>0</td>\n",
       "      <td>1</td>\n",
       "      <td>0</td>\n",
       "      <td>[0, 0, 0, 2, 2, 2, 2, 3, 3, 3]</td>\n",
       "      <td>[3]</td>\n",
       "      <td>10</td>\n",
       "      <td>20</td>\n",
       "      <td>1</td>\n",
       "      <td>1</td>\n",
       "      <td>-0.707317</td>\n",
       "    </tr>\n",
       "    <tr>\n",
       "      <th>0002222333s4</th>\n",
       "      <td>315</td>\n",
       "      <td>163</td>\n",
       "      <td>34</td>\n",
       "      <td>[0, 0, 0, 2, 2, 2, 2, 3, 3, 3]</td>\n",
       "      <td>[4]</td>\n",
       "      <td>10</td>\n",
       "      <td>20</td>\n",
       "      <td>0</td>\n",
       "      <td>0</td>\n",
       "      <td>0.317992</td>\n",
       "    </tr>\n",
       "    <tr>\n",
       "      <th>0002222333h4</th>\n",
       "      <td>0</td>\n",
       "      <td>1</td>\n",
       "      <td>0</td>\n",
       "      <td>[0, 0, 0, 2, 2, 2, 2, 3, 3, 3]</td>\n",
       "      <td>[4]</td>\n",
       "      <td>10</td>\n",
       "      <td>20</td>\n",
       "      <td>1</td>\n",
       "      <td>1</td>\n",
       "      <td>-0.707317</td>\n",
       "    </tr>\n",
       "    <tr>\n",
       "      <th>0002222333s5</th>\n",
       "      <td>326</td>\n",
       "      <td>147</td>\n",
       "      <td>39</td>\n",
       "      <td>[0, 0, 0, 2, 2, 2, 2, 3, 3, 3]</td>\n",
       "      <td>[5]</td>\n",
       "      <td>10</td>\n",
       "      <td>20</td>\n",
       "      <td>0</td>\n",
       "      <td>0</td>\n",
       "      <td>0.378436</td>\n",
       "    </tr>\n",
       "    <tr>\n",
       "      <th>...</th>\n",
       "      <td>...</td>\n",
       "      <td>...</td>\n",
       "      <td>...</td>\n",
       "      <td>...</td>\n",
       "      <td>...</td>\n",
       "      <td>...</td>\n",
       "      <td>...</td>\n",
       "      <td>...</td>\n",
       "      <td>...</td>\n",
       "      <td>...</td>\n",
       "    </tr>\n",
       "    <tr>\n",
       "      <th>0000223334h8</th>\n",
       "      <td>0</td>\n",
       "      <td>1</td>\n",
       "      <td>0</td>\n",
       "      <td>[0, 0, 0, 0, 2, 2, 3, 3, 3, 4]</td>\n",
       "      <td>[8]</td>\n",
       "      <td>10</td>\n",
       "      <td>21</td>\n",
       "      <td>1</td>\n",
       "      <td>1</td>\n",
       "      <td>-0.707317</td>\n",
       "    </tr>\n",
       "    <tr>\n",
       "      <th>0000223334s9</th>\n",
       "      <td>287</td>\n",
       "      <td>160</td>\n",
       "      <td>65</td>\n",
       "      <td>[0, 0, 0, 0, 2, 2, 3, 3, 3, 4]</td>\n",
       "      <td>[9]</td>\n",
       "      <td>10</td>\n",
       "      <td>21</td>\n",
       "      <td>0</td>\n",
       "      <td>0</td>\n",
       "      <td>0.284116</td>\n",
       "    </tr>\n",
       "    <tr>\n",
       "      <th>0000223334h9</th>\n",
       "      <td>0</td>\n",
       "      <td>1</td>\n",
       "      <td>0</td>\n",
       "      <td>[0, 0, 0, 0, 2, 2, 3, 3, 3, 4]</td>\n",
       "      <td>[9]</td>\n",
       "      <td>10</td>\n",
       "      <td>21</td>\n",
       "      <td>1</td>\n",
       "      <td>1</td>\n",
       "      <td>-0.707317</td>\n",
       "    </tr>\n",
       "    <tr>\n",
       "      <th>0000223334s1</th>\n",
       "      <td>239</td>\n",
       "      <td>183</td>\n",
       "      <td>90</td>\n",
       "      <td>[0, 0, 0, 0, 2, 2, 3, 3, 3, 4]</td>\n",
       "      <td>[1]</td>\n",
       "      <td>10</td>\n",
       "      <td>21</td>\n",
       "      <td>0</td>\n",
       "      <td>0</td>\n",
       "      <td>0.132701</td>\n",
       "    </tr>\n",
       "    <tr>\n",
       "      <th>0000223334h1</th>\n",
       "      <td>0</td>\n",
       "      <td>1</td>\n",
       "      <td>0</td>\n",
       "      <td>[0, 0, 0, 0, 2, 2, 3, 3, 3, 4]</td>\n",
       "      <td>[1]</td>\n",
       "      <td>10</td>\n",
       "      <td>21</td>\n",
       "      <td>1</td>\n",
       "      <td>1</td>\n",
       "      <td>-0.707317</td>\n",
       "    </tr>\n",
       "  </tbody>\n",
       "</table>\n",
       "<p>256 rows × 10 columns</p>\n",
       "</div>"
      ],
      "text/plain": [
       "              Player Wins  Dealer Wins  Ties                           Hands  \\\n",
       "0002222333s3          313          165    34  [0, 0, 0, 2, 2, 2, 2, 3, 3, 3]   \n",
       "0002222333h3            0            1     0  [0, 0, 0, 2, 2, 2, 2, 3, 3, 3]   \n",
       "0002222333s4          315          163    34  [0, 0, 0, 2, 2, 2, 2, 3, 3, 3]   \n",
       "0002222333h4            0            1     0  [0, 0, 0, 2, 2, 2, 2, 3, 3, 3]   \n",
       "0002222333s5          326          147    39  [0, 0, 0, 2, 2, 2, 2, 3, 3, 3]   \n",
       "...                   ...          ...   ...                             ...   \n",
       "0000223334h8            0            1     0  [0, 0, 0, 0, 2, 2, 3, 3, 3, 4]   \n",
       "0000223334s9          287          160    65  [0, 0, 0, 0, 2, 2, 3, 3, 3, 4]   \n",
       "0000223334h9            0            1     0  [0, 0, 0, 0, 2, 2, 3, 3, 3, 4]   \n",
       "0000223334s1          239          183    90  [0, 0, 0, 0, 2, 2, 3, 3, 3, 4]   \n",
       "0000223334h1            0            1     0  [0, 0, 0, 0, 2, 2, 3, 3, 3, 4]   \n",
       "\n",
       "             Dealer Card  Hand Size  Player Score  Decision  Optimal  \\\n",
       "0002222333s3         [3]         10            20         0        0   \n",
       "0002222333h3         [3]         10            20         1        1   \n",
       "0002222333s4         [4]         10            20         0        0   \n",
       "0002222333h4         [4]         10            20         1        1   \n",
       "0002222333s5         [5]         10            20         0        0   \n",
       "...                  ...        ...           ...       ...      ...   \n",
       "0000223334h8         [8]         10            21         1        1   \n",
       "0000223334s9         [9]         10            21         0        0   \n",
       "0000223334h9         [9]         10            21         1        1   \n",
       "0000223334s1         [1]         10            21         0        0   \n",
       "0000223334h1         [1]         10            21         1        1   \n",
       "\n",
       "              Expected Return  \n",
       "0002222333s3         0.309623  \n",
       "0002222333h3        -0.707317  \n",
       "0002222333s4         0.317992  \n",
       "0002222333h4        -0.707317  \n",
       "0002222333s5         0.378436  \n",
       "...                       ...  \n",
       "0000223334h8        -0.707317  \n",
       "0000223334s9         0.284116  \n",
       "0000223334h9        -0.707317  \n",
       "0000223334s1         0.132701  \n",
       "0000223334h1        -0.707317  \n",
       "\n",
       "[256 rows x 10 columns]"
      ]
     },
     "execution_count": 373,
     "metadata": {},
     "output_type": "execute_result"
    }
   ],
   "source": [
    "list(data[data[\"Hand Size\"] == 10]"
   ]
  },
  {
   "cell_type": "code",
   "execution_count": 331,
   "id": "37d54cbd-72b0-4e5e-89f2-5293e642f76c",
   "metadata": {},
   "outputs": [
    {
     "name": "stdout",
     "output_type": "stream",
     "text": [
      "[-0.7073170731707317, -0.7073170731707317, -0.7073170731707317, -0.7073170731707317, -0.7073170731707317, -0.7073170731707318, -0.7073170731707317, -0.7073170731707317, -0.7073170731707317, -0.7073170731707317, -0.7073170731707317, -0.7073170731707317, -0.7073170731707317, -0.7073170731707317, -0.7073170731707318, -0.7073170731707317, -0.7073170731707317, -0.7073170731707317, -0.7073170731707317, -0.7073170731707317, -0.7073170731707317, -0.7073170731707317, -0.7073170731707317, -0.7073170731707317, -0.7073170731707317, -0.7073170731707317, -0.7073170731707317, -0.7073170731707317, -0.7073170731707316, -0.7073170731707317, -0.7073170731707317, -0.7073170731707316, -0.7073170731707316, -0.7073170731707316, -0.7073170731707317, -0.7073170731707316, -0.7073170731707316, -0.7073170731707317, -0.7073170731707317, -0.7073170731707316, -0.7073170731707316, -0.7073170731707316, -0.7073170731707317, -0.7073170731707317, -0.7073170731707317, -0.7073170731707317, -0.7073170731707317, -0.7073170731707317, -0.7073170731707317, -0.7073170731707317, -0.7073170731707317, -0.7073170731707317, -0.7073170731707317, -0.7073170731707317, -0.7073170731707317, -0.7073170731707317, -0.7073170731707317, -0.7073170731707317, -0.7073170731707316, -0.7073170731707317, -0.7073170731707316, -0.7073170731707317, -0.7073170731707317, -0.7073170731707316, -0.7073170731707316, -0.7073170731707316, -0.7073170731707317, -0.7073170731707317, -0.7073170731707317, -0.7073170731707317, -0.7073170731707317, -0.7073170731707318, -0.7073170731707317, -0.7073170731707317, -0.7073170731707317, -0.7073170731707317, -0.7073170731707317, -0.7073170731707317, -0.7073170731707317, -0.7073170731707317, -0.7073170731707317, -0.7073170731707317, -0.7073170731707317, -0.7073170731707317, -0.7073170731707317, -0.7073170731707317, -0.7073170731707317, -0.7073170731707317, -0.7073170731707317, -0.7073170731707317, -0.7073170731707317, -0.7073170731707317, -0.7073170731707317, -0.7073170731707317, -0.7073170731707317, -0.7073170731707317, -0.7073170731707317, -0.7073170731707317, -0.7073170731707317, -0.7073170731707316, -0.7073170731707316, -0.7073170731707316, -0.7073170731707317, -0.7073170731707317, -0.7073170731707317, -0.7073170731707317, -0.7073170731707317, -0.7073170731707317, -0.7073170731707317, -0.7073170731707317, -0.7073170731707317, -0.7073170731707317, -0.7073170731707317, -0.7073170731707317, -0.7073170731707317, -0.7073170731707317, -0.7073170731707317, -0.7073170731707317, -0.7073170731707317, -0.7073170731707317, -0.7073170731707317, -0.7073170731707317, -0.7073170731707317, -0.7073170731707317, -0.7073170731707317, -0.7073170731707317, -0.7073170731707317, -0.7073170731707317]\n"
     ]
    }
   ],
   "source": [
    "print(list(data[data[\"Hand Size\"] == 10][\"Expected Return\"][1::2]))"
   ]
  },
  {
   "cell_type": "code",
   "execution_count": null,
   "id": "92368516-457c-47b0-a973-e446775ad6f0",
   "metadata": {},
   "outputs": [],
   "source": []
  }
 ],
 "metadata": {
  "kernelspec": {
   "display_name": "Python 3",
   "language": "python",
   "name": "python3"
  },
  "language_info": {
   "codemirror_mode": {
    "name": "ipython",
    "version": 3
   },
   "file_extension": ".py",
   "mimetype": "text/x-python",
   "name": "python",
   "nbconvert_exporter": "python",
   "pygments_lexer": "ipython3",
   "version": "3.8.8"
  }
 },
 "nbformat": 4,
 "nbformat_minor": 5
}
